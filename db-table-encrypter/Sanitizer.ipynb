{
 "cells": [
  {
   "cell_type": "markdown",
   "id": "consecutive-nightlife",
   "metadata": {},
   "source": [
    "# Automatic Data Sanitizer"
   ]
  },
  {
   "cell_type": "markdown",
   "id": "literary-healthcare",
   "metadata": {},
   "source": [
    "### Import dependencies"
   ]
  },
  {
   "cell_type": "code",
   "execution_count": 1,
   "id": "phantom-camera",
   "metadata": {},
   "outputs": [],
   "source": [
    "import os\n",
    "import re\n",
    "import ast\n",
    "import math\n",
    "import yaml\n",
    "import time\n",
    "import random\n",
    "import numbers\n",
    "import warnings\n",
    "import threading\n",
    "import traceback\n",
    "import pandas as pd\n",
    "from tqdm import tqdm\n",
    "from faker import Faker\n",
    "import concurrent.futures\n",
    "from sqlalchemy import create_engine, event"
   ]
  },
  {
   "cell_type": "code",
   "execution_count": 2,
   "id": "above-debate",
   "metadata": {},
   "outputs": [],
   "source": [
    "from src.stop_execution import StopExecution"
   ]
  },
  {
   "cell_type": "markdown",
   "id": "colored-yellow",
   "metadata": {},
   "source": [
    "### Load environment"
   ]
  },
  {
   "cell_type": "code",
   "execution_count": 3,
   "id": "collected-collective",
   "metadata": {},
   "outputs": [],
   "source": [
    "pd.set_option('mode.chained_assignment', None)"
   ]
  },
  {
   "cell_type": "code",
   "execution_count": 4,
   "id": "portable-india",
   "metadata": {},
   "outputs": [],
   "source": [
    "if not os.path.isfile(\"env.yml\"):\n",
    "    print(\"env.yml file not found. env.yml can be created from env.example.yml. Make sure to update variables.\")\n",
    "    raise StopExecution"
   ]
  },
  {
   "cell_type": "code",
   "execution_count": 5,
   "id": "average-installation",
   "metadata": {},
   "outputs": [],
   "source": [
    "with open('env.yml') as f:\n",
    "    env = yaml.safe_load(f)"
   ]
  },
  {
   "cell_type": "code",
   "execution_count": 6,
   "id": "spiritual-establishment",
   "metadata": {},
   "outputs": [],
   "source": [
    "source_connection_string = env['database']['source_connection']\n",
    "analysis_sample_size = 1000\n",
    "chunk_size = 30000\n",
    "connection_count = 10\n",
    "temporary_table_suffix = \"_scrubbed_empty\""
   ]
  },
  {
   "cell_type": "markdown",
   "id": "blank-tutorial",
   "metadata": {},
   "source": [
    "### Database connections"
   ]
  },
  {
   "cell_type": "code",
   "execution_count": 7,
   "id": "african-biography",
   "metadata": {},
   "outputs": [],
   "source": [
    "def get_new_connection():\n",
    "    source_engine = create_engine(\n",
    "        source_connection_string, \n",
    "        pool_recycle=1800,\n",
    "        connect_args={'ssl_mode':'DISABLED'}\n",
    "    ) \n",
    "    source_connection = source_engine.connect()\n",
    "    return source_connection"
   ]
  },
  {
   "cell_type": "code",
   "execution_count": 8,
   "id": "enabling-taiwan",
   "metadata": {},
   "outputs": [],
   "source": [
    "connection_pool = {get_new_connection(): False for i in range(connection_count)}"
   ]
  },
  {
   "cell_type": "code",
   "execution_count": 9,
   "id": "trained-netherlands",
   "metadata": {},
   "outputs": [],
   "source": [
    "def get_any_connection():\n",
    "    return list(connection_pool.keys())[random.randint(0, len(connection_pool)-1)]"
   ]
  },
  {
   "cell_type": "code",
   "execution_count": 10,
   "id": "terminal-latitude",
   "metadata": {},
   "outputs": [],
   "source": [
    "def wait_for_connection_release(connection):\n",
    "    while connection_pool[connection]:\n",
    "        time.sleep(1)"
   ]
  },
  {
   "cell_type": "code",
   "execution_count": 11,
   "id": "hollow-grenada",
   "metadata": {},
   "outputs": [],
   "source": [
    "def connection_release(connection):\n",
    "    connection_pool[connection] = False"
   ]
  },
  {
   "cell_type": "code",
   "execution_count": 12,
   "id": "analyzed-premium",
   "metadata": {},
   "outputs": [],
   "source": [
    "def release_all_connections():\n",
    "    for connection in list(connection_pool.keys()):\n",
    "        connection_pool[connection] = False"
   ]
  },
  {
   "cell_type": "code",
   "execution_count": 13,
   "id": "brilliant-semiconductor",
   "metadata": {},
   "outputs": [],
   "source": [
    "source_connection = get_new_connection()"
   ]
  },
  {
   "cell_type": "markdown",
   "id": "checked-confidentiality",
   "metadata": {},
   "source": [
    "### Loading sanitazation configurations"
   ]
  },
  {
   "cell_type": "code",
   "execution_count": 14,
   "id": "vocational-sunday",
   "metadata": {},
   "outputs": [],
   "source": [
    "def clean_string(df):\n",
    "    for col in df.columns:\n",
    "        df[col] = df[col].str.strip()\n",
    "    return df"
   ]
  },
  {
   "cell_type": "code",
   "execution_count": 15,
   "id": "blocked-language",
   "metadata": {},
   "outputs": [],
   "source": [
    "tables_config = clean_string(pd.read_csv(os.path.join('config', 'tables.csv')))\n",
    "columns_config = clean_string(pd.read_csv(os.path.join('config', 'columns.csv')))"
   ]
  },
  {
   "cell_type": "code",
   "execution_count": 16,
   "id": "limited-amendment",
   "metadata": {},
   "outputs": [
    {
     "data": {
      "text/html": [
       "<div>\n",
       "<style scoped>\n",
       "    .dataframe tbody tr th:only-of-type {\n",
       "        vertical-align: middle;\n",
       "    }\n",
       "\n",
       "    .dataframe tbody tr th {\n",
       "        vertical-align: top;\n",
       "    }\n",
       "\n",
       "    .dataframe thead th {\n",
       "        text-align: right;\n",
       "    }\n",
       "</style>\n",
       "<table border=\"1\" class=\"dataframe\">\n",
       "  <thead>\n",
       "    <tr style=\"text-align: right;\">\n",
       "      <th></th>\n",
       "      <th>TABLE_SCHEMA</th>\n",
       "      <th>TABLE_NAME</th>\n",
       "      <th>ACTION</th>\n",
       "    </tr>\n",
       "  </thead>\n",
       "  <tbody>\n",
       "    <tr>\n",
       "      <th>0</th>\n",
       "      <td>geosearch</td>\n",
       "      <td>trending_causes_bk</td>\n",
       "      <td>drop</td>\n",
       "    </tr>\n",
       "  </tbody>\n",
       "</table>\n",
       "</div>"
      ],
      "text/plain": [
       "  TABLE_SCHEMA          TABLE_NAME ACTION\n",
       "0    geosearch  trending_causes_bk   drop"
      ]
     },
     "execution_count": 16,
     "metadata": {},
     "output_type": "execute_result"
    }
   ],
   "source": [
    "tables_config"
   ]
  },
  {
   "cell_type": "code",
   "execution_count": 17,
   "id": "covered-fossil",
   "metadata": {},
   "outputs": [
    {
     "data": {
      "text/html": [
       "<div>\n",
       "<style scoped>\n",
       "    .dataframe tbody tr th:only-of-type {\n",
       "        vertical-align: middle;\n",
       "    }\n",
       "\n",
       "    .dataframe tbody tr th {\n",
       "        vertical-align: top;\n",
       "    }\n",
       "\n",
       "    .dataframe thead th {\n",
       "        text-align: right;\n",
       "    }\n",
       "</style>\n",
       "<table border=\"1\" class=\"dataframe\">\n",
       "  <thead>\n",
       "    <tr style=\"text-align: right;\">\n",
       "      <th></th>\n",
       "      <th>TABLE_SCHEMA</th>\n",
       "      <th>TABLE_NAME</th>\n",
       "      <th>COLUMN_NAME</th>\n",
       "      <th>ACTION</th>\n",
       "    </tr>\n",
       "  </thead>\n",
       "  <tbody>\n",
       "    <tr>\n",
       "      <th>0</th>\n",
       "      <td>givelify</td>\n",
       "      <td>donee_merchant_data</td>\n",
       "      <td>fld_key</td>\n",
       "      <td>scrub</td>\n",
       "    </tr>\n",
       "    <tr>\n",
       "      <th>1</th>\n",
       "      <td>givelify</td>\n",
       "      <td>donee_merchant_data</td>\n",
       "      <td>fld_api</td>\n",
       "      <td>scrub</td>\n",
       "    </tr>\n",
       "    <tr>\n",
       "      <th>2</th>\n",
       "      <td>givelify</td>\n",
       "      <td>donee_merchant_data</td>\n",
       "      <td>fld_id</td>\n",
       "      <td>scrub</td>\n",
       "    </tr>\n",
       "    <tr>\n",
       "      <th>3</th>\n",
       "      <td>givelify</td>\n",
       "      <td>donee_merchant_data</td>\n",
       "      <td>fld_name</td>\n",
       "      <td>scrub</td>\n",
       "    </tr>\n",
       "    <tr>\n",
       "      <th>4</th>\n",
       "      <td>givelify</td>\n",
       "      <td>donee_merchant_data</td>\n",
       "      <td>fld_csi</td>\n",
       "      <td>scrub</td>\n",
       "    </tr>\n",
       "    <tr>\n",
       "      <th>...</th>\n",
       "      <td>...</td>\n",
       "      <td>...</td>\n",
       "      <td>...</td>\n",
       "      <td>...</td>\n",
       "    </tr>\n",
       "    <tr>\n",
       "      <th>115</th>\n",
       "      <td>donee-portal</td>\n",
       "      <td>users</td>\n",
       "      <td>email</td>\n",
       "      <td>scrub</td>\n",
       "    </tr>\n",
       "    <tr>\n",
       "      <th>116</th>\n",
       "      <td>donee-portal</td>\n",
       "      <td>users</td>\n",
       "      <td>password</td>\n",
       "      <td>scrub</td>\n",
       "    </tr>\n",
       "    <tr>\n",
       "      <th>117</th>\n",
       "      <td>url_shortener</td>\n",
       "      <td>log</td>\n",
       "      <td>ip_address</td>\n",
       "      <td>scrub</td>\n",
       "    </tr>\n",
       "    <tr>\n",
       "      <th>118</th>\n",
       "      <td>url_shortener</td>\n",
       "      <td>url</td>\n",
       "      <td>ip</td>\n",
       "      <td>scrub</td>\n",
       "    </tr>\n",
       "    <tr>\n",
       "      <th>119</th>\n",
       "      <td>giving_home</td>\n",
       "      <td>donor_impact_stories</td>\n",
       "      <td>story</td>\n",
       "      <td>scrub</td>\n",
       "    </tr>\n",
       "  </tbody>\n",
       "</table>\n",
       "<p>120 rows × 4 columns</p>\n",
       "</div>"
      ],
      "text/plain": [
       "      TABLE_SCHEMA            TABLE_NAME COLUMN_NAME ACTION\n",
       "0         givelify   donee_merchant_data     fld_key  scrub\n",
       "1         givelify   donee_merchant_data     fld_api  scrub\n",
       "2         givelify   donee_merchant_data      fld_id  scrub\n",
       "3         givelify   donee_merchant_data    fld_name  scrub\n",
       "4         givelify   donee_merchant_data     fld_csi  scrub\n",
       "..             ...                   ...         ...    ...\n",
       "115   donee-portal                 users       email  scrub\n",
       "116   donee-portal                 users    password  scrub\n",
       "117  url_shortener                   log  ip_address  scrub\n",
       "118  url_shortener                   url          ip  scrub\n",
       "119    giving_home  donor_impact_stories       story  scrub\n",
       "\n",
       "[120 rows x 4 columns]"
      ]
     },
     "execution_count": 17,
     "metadata": {},
     "output_type": "execute_result"
    }
   ],
   "source": [
    "columns_config"
   ]
  },
  {
   "cell_type": "markdown",
   "id": "compliant-trouble",
   "metadata": {},
   "source": [
    "### Check access"
   ]
  },
  {
   "cell_type": "markdown",
   "id": "moving-music",
   "metadata": {},
   "source": [
    "#### Check access for databases"
   ]
  },
  {
   "cell_type": "code",
   "execution_count": 18,
   "id": "professional-welsh",
   "metadata": {},
   "outputs": [],
   "source": [
    "available_databases = set(pd.read_sql_query('SHOW DATABASES', source_connection)['Database'].tolist())"
   ]
  },
  {
   "cell_type": "code",
   "execution_count": 19,
   "id": "developmental-vegetable",
   "metadata": {},
   "outputs": [],
   "source": [
    "required_databases = set(columns_config['TABLE_SCHEMA'].tolist() + tables_config['TABLE_SCHEMA'].tolist())"
   ]
  },
  {
   "cell_type": "code",
   "execution_count": 20,
   "id": "private-guinea",
   "metadata": {},
   "outputs": [],
   "source": [
    "not_found_databases = required_databases - available_databases"
   ]
  },
  {
   "cell_type": "code",
   "execution_count": 21,
   "id": "friendly-structure",
   "metadata": {},
   "outputs": [
    {
     "name": "stdout",
     "output_type": "stream",
     "text": [
      "following databases are not accessible:\n",
      "['giving_home', 'geosearch']\n"
     ]
    }
   ],
   "source": [
    "if not_found_databases:\n",
    "    print(\"following databases are not accessible:\")\n",
    "    print(list(not_found_databases))\n",
    "#     raise StopExecution"
   ]
  },
  {
   "cell_type": "code",
   "execution_count": 22,
   "id": "altered-broadcast",
   "metadata": {},
   "outputs": [],
   "source": [
    "columns_config = columns_config[~columns_config['TABLE_SCHEMA'].isin(not_found_databases)]\n",
    "tables_config = tables_config[~tables_config['TABLE_SCHEMA'].isin(not_found_databases)]"
   ]
  },
  {
   "cell_type": "markdown",
   "id": "after-rally",
   "metadata": {},
   "source": [
    "### Analyze Data"
   ]
  },
  {
   "cell_type": "code",
   "execution_count": 23,
   "id": "apparent-corner",
   "metadata": {},
   "outputs": [],
   "source": [
    "def is_unqiue(column):\n",
    "    return len(column.unique()) == len(column)"
   ]
  },
  {
   "cell_type": "code",
   "execution_count": 24,
   "id": "worse-evidence",
   "metadata": {},
   "outputs": [],
   "source": [
    "_table_lengths = {}\n",
    "def get_table_length(database, table, connection):\n",
    "    if (database, table) not in _table_lengths:\n",
    "        query = \"select count(*) as `length` from `%s`.`%s`\" % (database, table)\n",
    "        _table_lengths[(database, table)] = int(pd.read_sql_query(query, connection)['length'][0])\n",
    "    return _table_lengths[(database, table)]"
   ]
  },
  {
   "cell_type": "code",
   "execution_count": 25,
   "id": "developed-breakdown",
   "metadata": {},
   "outputs": [],
   "source": [
    "_min_values = {}\n",
    "def get_min_value(database, table, column, chunk_size, connection):\n",
    "    if (database, table, column) not in _min_values:\n",
    "        iterations = math.ceil(_table_lengths[(database, table)] / chunk_size)\n",
    "        for i in tqdm(range(iterations), position=0, leave=True):\n",
    "            query = \"select min(`%s`) as `length` from `%s`.`%s` limit %s offset %s\" % (\n",
    "                column, \n",
    "                database, \n",
    "                table, \n",
    "                chunk_size, \n",
    "                chunk_size*i\n",
    "            )\n",
    "            tmp = pd.read_sql_query(query, connection)['length']\n",
    "            if len(tmp):\n",
    "                tmp = tmp[0]\n",
    "                if (database, table, column) not in _min_values:\n",
    "                    _min_values[(database, table, column)] = tmp\n",
    "                else:\n",
    "                    _min_values[(database, table, column)] = min(_min_values[(database, table, column)], tmp)\n",
    "    return _min_values[(database, table, column)]"
   ]
  },
  {
   "cell_type": "code",
   "execution_count": 26,
   "id": "editorial-spray",
   "metadata": {},
   "outputs": [],
   "source": [
    "_max_values = {}\n",
    "def get_max_value(database, table, column, chunk_size, connection):\n",
    "    if (database, table, column) not in _max_values:\n",
    "        iterations = math.ceil(_table_lengths[(database, table)] / chunk_size)\n",
    "        for i in tqdm(range(iterations), position=0, leave=True):\n",
    "            query = \"select max(`%s`) as `length` from `%s`.`%s` limit %s offset %s\" % (\n",
    "                column, \n",
    "                database, \n",
    "                table, \n",
    "                chunk_size, \n",
    "                chunk_size*i\n",
    "            )\n",
    "            tmp = pd.read_sql_query(query, connection)['length']\n",
    "            if len(tmp):\n",
    "                tmp = tmp[0]\n",
    "                if (database, table, column) not in _max_values:\n",
    "                    _max_values[(database, table, column)] = tmp\n",
    "                else:\n",
    "                    _max_values[(database, table, column)] = max(_max_values[(database, table, column)], tmp)\n",
    "    return _max_values[(database, table, column)]"
   ]
  },
  {
   "cell_type": "code",
   "execution_count": 27,
   "id": "working-keeping",
   "metadata": {},
   "outputs": [],
   "source": [
    "def analyze_column(index, row, limit, connection):\n",
    "    wait_for_connection_release(connection)\n",
    "    connection_pool[connection] = True\n",
    "    try:\n",
    "        query = \"select `%s` from `%s`.`%s` limit %s\" % (row['COLUMN_NAME'], row['TABLE_SCHEMA'], row['TABLE_NAME'], str(limit))\n",
    "        column = pd.read_sql_query(query, connection)[row['COLUMN_NAME']]\n",
    "        columns_config.at[index, 'is_unique'] = is_unqiue(column)\n",
    "        columns_config.at[index, 'length'] = get_table_length(\n",
    "            row['TABLE_SCHEMA'], \n",
    "            row['TABLE_NAME'],\n",
    "            connection\n",
    "        )\n",
    "        if len(column) and column[0] != None and not isinstance(column[0], str):\n",
    "            columns_config.at[index, 'min'] = get_min_value(\n",
    "                row['TABLE_SCHEMA'], \n",
    "                row['TABLE_NAME'], \n",
    "                row['COLUMN_NAME'],\n",
    "                analysis_sample_size,\n",
    "                connection\n",
    "            )\n",
    "            columns_config.at[index, 'max'] = get_max_value(\n",
    "                row['TABLE_SCHEMA'], \n",
    "                row['TABLE_NAME'], \n",
    "                row['COLUMN_NAME'],\n",
    "                analysis_sample_size,\n",
    "                connection\n",
    "            )\n",
    "    except Exception as e:\n",
    "        print(e)\n",
    "        traceback.print_exc()\n",
    "    finally:\n",
    "        connection_release(connection)"
   ]
  },
  {
   "cell_type": "code",
   "execution_count": 28,
   "id": "organic-thirty",
   "metadata": {},
   "outputs": [],
   "source": [
    "columns_config['min'] = None\n",
    "columns_config['min'] = None\n",
    "columns_config['length'] = None\n",
    "columns_config['is_unique'] = None"
   ]
  },
  {
   "cell_type": "code",
   "execution_count": 29,
   "id": "tender-retirement",
   "metadata": {},
   "outputs": [
    {
     "name": "stderr",
     "output_type": "stream",
     "text": [
      "100%|██████████| 119/119 [00:00<00:00, 9455.58it/s]\n"
     ]
    }
   ],
   "source": [
    "futures = []\n",
    "args = []\n",
    "for index, row in tqdm(columns_config.iterrows(), total=len(columns_config), position=0, leave=True):\n",
    "    connection = get_any_connection()\n",
    "    args.append((\n",
    "        index, \n",
    "        row.copy(), \n",
    "        analysis_sample_size, \n",
    "        connection\n",
    "    ))\n",
    "executor=concurrent.futures.ThreadPoolExecutor(max_workers=connection_count)\n",
    "for arg in args:\n",
    "    futures.append(executor.submit(analyze_column, *arg))\n"
   ]
  },
  {
   "cell_type": "code",
   "execution_count": 30,
   "id": "collectible-lexington",
   "metadata": {},
   "outputs": [
    {
     "name": "stderr",
     "output_type": "stream",
     "text": [
      "100%|██████████| 5/5 [00:00<00:00, 20.14it/s]t]\n",
      "100%|██████████| 5/5 [00:00<00:00, 19.58it/s]\n",
      "100%|██████████| 5/5 [00:00<00:00, 20.34it/s]\n",
      "100%|██████████| 5/5 [00:00<00:00, 19.50it/s]s]\n",
      "100%|██████████| 5/5 [00:00<00:00, 19.39it/s]/s]\n",
      "100%|██████████| 5/5 [00:00<00:00, 19.82it/s]s]\n",
      "100%|██████████| 33/33 [00:01<00:00, 20.56it/s]]\n",
      "100%|██████████| 33/33 [00:01<00:00, 20.49it/s]\n",
      "100%|██████████| 12/12 [00:00<00:00, 19.51it/s]]\n",
      "100%|██████████| 12/12 [00:00<00:00, 19.34it/s]\n",
      "100%|██████████| 12/12 [00:00<00:00, 19.47it/s]\n",
      "100%|██████████| 33/33 [00:01<00:00, 20.46it/s]\n",
      "100%|██████████| 33/33 [00:01<00:00, 20.45it/s]]\n",
      "100%|██████████| 12/12 [00:00<00:00, 19.25it/s]]\n",
      "100%|██████████| 33/33 [00:02<00:00, 13.98it/s]]\n",
      "100%|██████████| 33/33 [00:02<00:00, 15.75it/s]\n",
      "100%|██████████| 43/43 [00:03<00:00, 12.08it/s]]\n",
      "100%|██████████| 43/43 [00:02<00:00, 16.25it/s]]\n",
      "100%|██████████| 43/43 [00:02<00:00, 16.12it/s]]\n",
      "100%|██████████| 43/43 [00:02<00:00, 16.42it/s]\n",
      "100%|██████████| 43/43 [00:02<00:00, 15.97it/s]]\n",
      "100%|██████████| 43/43 [00:02<00:00, 15.83it/s]]\n",
      "100%|██████████| 83/83 [00:06<00:00, 12.18it/s]]\n",
      "100%|██████████| 8/8 [00:00<00:00, 14.87it/s]s]s]\n",
      "100%|██████████| 8/8 [00:00<00:00, 16.58it/s]\n",
      "100%|██████████| 8/8 [00:00<00:00, 19.72it/s]s]\n",
      "100%|██████████| 8/8 [00:00<00:00, 19.59it/s]t/s]\n",
      "100%|██████████| 8/8 [00:00<00:00, 18.81it/s]s]s]\n",
      "100%|██████████| 8/8 [00:00<00:00, 18.45it/s]s]\n",
      "100%|██████████| 8/8 [00:00<00:00, 18.36it/s]s]\n",
      "100%|██████████| 8/8 [00:00<00:00, 19.12it/s]s]s]\n",
      "100%|██████████| 83/83 [00:05<00:00, 14.13it/s]\n",
      "100%|██████████| 119/119 [00:27<00:00,  4.29it/s]\n"
     ]
    }
   ],
   "source": [
    "total = len(futures)\n",
    "for future in list(tqdm(concurrent.futures.as_completed(futures), total=total)):\n",
    "    pass"
   ]
  },
  {
   "cell_type": "code",
   "execution_count": 31,
   "id": "grateful-spectacular",
   "metadata": {},
   "outputs": [
    {
     "data": {
      "text/html": [
       "<div>\n",
       "<style scoped>\n",
       "    .dataframe tbody tr th:only-of-type {\n",
       "        vertical-align: middle;\n",
       "    }\n",
       "\n",
       "    .dataframe tbody tr th {\n",
       "        vertical-align: top;\n",
       "    }\n",
       "\n",
       "    .dataframe thead th {\n",
       "        text-align: right;\n",
       "    }\n",
       "</style>\n",
       "<table border=\"1\" class=\"dataframe\">\n",
       "  <thead>\n",
       "    <tr style=\"text-align: right;\">\n",
       "      <th></th>\n",
       "      <th>TABLE_SCHEMA</th>\n",
       "      <th>TABLE_NAME</th>\n",
       "      <th>COLUMN_NAME</th>\n",
       "      <th>ACTION</th>\n",
       "      <th>min</th>\n",
       "      <th>length</th>\n",
       "      <th>is_unique</th>\n",
       "      <th>max</th>\n",
       "    </tr>\n",
       "  </thead>\n",
       "  <tbody>\n",
       "    <tr>\n",
       "      <th>0</th>\n",
       "      <td>givelify</td>\n",
       "      <td>donee_merchant_data</td>\n",
       "      <td>fld_key</td>\n",
       "      <td>scrub</td>\n",
       "      <td>1</td>\n",
       "      <td>4120</td>\n",
       "      <td>True</td>\n",
       "      <td>4121.0</td>\n",
       "    </tr>\n",
       "    <tr>\n",
       "      <th>1</th>\n",
       "      <td>givelify</td>\n",
       "      <td>donee_merchant_data</td>\n",
       "      <td>fld_api</td>\n",
       "      <td>scrub</td>\n",
       "      <td>None</td>\n",
       "      <td>4120</td>\n",
       "      <td>False</td>\n",
       "      <td>NaN</td>\n",
       "    </tr>\n",
       "    <tr>\n",
       "      <th>2</th>\n",
       "      <td>givelify</td>\n",
       "      <td>donee_merchant_data</td>\n",
       "      <td>fld_id</td>\n",
       "      <td>scrub</td>\n",
       "      <td>None</td>\n",
       "      <td>4120</td>\n",
       "      <td>True</td>\n",
       "      <td>NaN</td>\n",
       "    </tr>\n",
       "    <tr>\n",
       "      <th>3</th>\n",
       "      <td>givelify</td>\n",
       "      <td>donee_merchant_data</td>\n",
       "      <td>fld_name</td>\n",
       "      <td>scrub</td>\n",
       "      <td>None</td>\n",
       "      <td>4120</td>\n",
       "      <td>False</td>\n",
       "      <td>NaN</td>\n",
       "    </tr>\n",
       "    <tr>\n",
       "      <th>4</th>\n",
       "      <td>givelify</td>\n",
       "      <td>donee_merchant_data</td>\n",
       "      <td>fld_csi</td>\n",
       "      <td>scrub</td>\n",
       "      <td>None</td>\n",
       "      <td>4120</td>\n",
       "      <td>False</td>\n",
       "      <td>NaN</td>\n",
       "    </tr>\n",
       "    <tr>\n",
       "      <th>...</th>\n",
       "      <td>...</td>\n",
       "      <td>...</td>\n",
       "      <td>...</td>\n",
       "      <td>...</td>\n",
       "      <td>...</td>\n",
       "      <td>...</td>\n",
       "      <td>...</td>\n",
       "      <td>...</td>\n",
       "    </tr>\n",
       "    <tr>\n",
       "      <th>114</th>\n",
       "      <td>donee-portal</td>\n",
       "      <td>signup_progress</td>\n",
       "      <td>updated_at</td>\n",
       "      <td>scrub</td>\n",
       "      <td>2020-11-03 21:17:54</td>\n",
       "      <td>7674</td>\n",
       "      <td>False</td>\n",
       "      <td>2021-03-02 00:04:54</td>\n",
       "    </tr>\n",
       "    <tr>\n",
       "      <th>115</th>\n",
       "      <td>donee-portal</td>\n",
       "      <td>users</td>\n",
       "      <td>email</td>\n",
       "      <td>scrub</td>\n",
       "      <td>None</td>\n",
       "      <td>0</td>\n",
       "      <td>True</td>\n",
       "      <td>NaN</td>\n",
       "    </tr>\n",
       "    <tr>\n",
       "      <th>116</th>\n",
       "      <td>donee-portal</td>\n",
       "      <td>users</td>\n",
       "      <td>password</td>\n",
       "      <td>scrub</td>\n",
       "      <td>None</td>\n",
       "      <td>0</td>\n",
       "      <td>True</td>\n",
       "      <td>NaN</td>\n",
       "    </tr>\n",
       "    <tr>\n",
       "      <th>117</th>\n",
       "      <td>url_shortener</td>\n",
       "      <td>log</td>\n",
       "      <td>ip_address</td>\n",
       "      <td>scrub</td>\n",
       "      <td>None</td>\n",
       "      <td>383753</td>\n",
       "      <td>False</td>\n",
       "      <td>NaN</td>\n",
       "    </tr>\n",
       "    <tr>\n",
       "      <th>118</th>\n",
       "      <td>url_shortener</td>\n",
       "      <td>url</td>\n",
       "      <td>ip</td>\n",
       "      <td>scrub</td>\n",
       "      <td>None</td>\n",
       "      <td>28200</td>\n",
       "      <td>False</td>\n",
       "      <td>NaN</td>\n",
       "    </tr>\n",
       "  </tbody>\n",
       "</table>\n",
       "<p>119 rows × 8 columns</p>\n",
       "</div>"
      ],
      "text/plain": [
       "      TABLE_SCHEMA           TABLE_NAME COLUMN_NAME ACTION  \\\n",
       "0         givelify  donee_merchant_data     fld_key  scrub   \n",
       "1         givelify  donee_merchant_data     fld_api  scrub   \n",
       "2         givelify  donee_merchant_data      fld_id  scrub   \n",
       "3         givelify  donee_merchant_data    fld_name  scrub   \n",
       "4         givelify  donee_merchant_data     fld_csi  scrub   \n",
       "..             ...                  ...         ...    ...   \n",
       "114   donee-portal      signup_progress  updated_at  scrub   \n",
       "115   donee-portal                users       email  scrub   \n",
       "116   donee-portal                users    password  scrub   \n",
       "117  url_shortener                  log  ip_address  scrub   \n",
       "118  url_shortener                  url          ip  scrub   \n",
       "\n",
       "                     min  length is_unique                  max  \n",
       "0                      1    4120      True               4121.0  \n",
       "1                   None    4120     False                  NaN  \n",
       "2                   None    4120      True                  NaN  \n",
       "3                   None    4120     False                  NaN  \n",
       "4                   None    4120     False                  NaN  \n",
       "..                   ...     ...       ...                  ...  \n",
       "114  2020-11-03 21:17:54    7674     False  2021-03-02 00:04:54  \n",
       "115                 None       0      True                  NaN  \n",
       "116                 None       0      True                  NaN  \n",
       "117                 None  383753     False                  NaN  \n",
       "118                 None   28200     False                  NaN  \n",
       "\n",
       "[119 rows x 8 columns]"
      ]
     },
     "execution_count": 31,
     "metadata": {},
     "output_type": "execute_result"
    }
   ],
   "source": [
    "columns_config"
   ]
  },
  {
   "cell_type": "code",
   "execution_count": 32,
   "id": "former-commonwealth",
   "metadata": {},
   "outputs": [
    {
     "data": {
      "image/png": "[encoded data removed]",
      "text/plain": [
       "<Figure size 432x288 with 1 Axes>"
      ]
     },
     "metadata": {
      "needs_background": "light"
     },
     "output_type": "display_data"
    }
   ],
   "source": [
    "if len(columns_config):\n",
    "    columns_config['length'].sort_values(ignore_index=True).plot(logy=True)"
   ]
  },
  {
   "cell_type": "code",
   "execution_count": 33,
   "id": "independent-spray",
   "metadata": {},
   "outputs": [],
   "source": [
    "def analyze_tables(index, row):\n",
    "    tables_config.loc[index, 'length'] = get_table_length(row['TABLE_SCHEMA'], row['TABLE_NAME'])"
   ]
  },
  {
   "cell_type": "code",
   "execution_count": 34,
   "id": "breeding-plaza",
   "metadata": {},
   "outputs": [
    {
     "name": "stderr",
     "output_type": "stream",
     "text": [
      "0it [00:00, ?it/s]\n"
     ]
    }
   ],
   "source": [
    "for index, row in tqdm(tables_config.iterrows(), total=len(tables_config)):\n",
    "    analyze_tables(index, row, analysis_sample_size)"
   ]
  },
  {
   "cell_type": "code",
   "execution_count": 35,
   "id": "consolidated-support",
   "metadata": {},
   "outputs": [],
   "source": [
    "if len(tables_config):\n",
    "    tables_config['length'].sort_values(ignore_index=True).plot(logy=True)"
   ]
  },
  {
   "cell_type": "markdown",
   "id": "undefined-yugoslavia",
   "metadata": {},
   "source": [
    "### Clone to temporary tables"
   ]
  },
  {
   "cell_type": "code",
   "execution_count": 36,
   "id": "surrounded-acquisition",
   "metadata": {},
   "outputs": [
    {
     "data": {
      "text/html": [
       "<div>\n",
       "<style scoped>\n",
       "    .dataframe tbody tr th:only-of-type {\n",
       "        vertical-align: middle;\n",
       "    }\n",
       "\n",
       "    .dataframe tbody tr th {\n",
       "        vertical-align: top;\n",
       "    }\n",
       "\n",
       "    .dataframe thead th {\n",
       "        text-align: right;\n",
       "    }\n",
       "</style>\n",
       "<table border=\"1\" class=\"dataframe\">\n",
       "  <thead>\n",
       "    <tr style=\"text-align: right;\">\n",
       "      <th></th>\n",
       "      <th>TABLE_SCHEMA</th>\n",
       "      <th>TABLE_NAME</th>\n",
       "      <th>length</th>\n",
       "    </tr>\n",
       "  </thead>\n",
       "  <tbody>\n",
       "    <tr>\n",
       "      <th>0</th>\n",
       "      <td>givelify</td>\n",
       "      <td>donee_merchant_data</td>\n",
       "      <td>4120</td>\n",
       "    </tr>\n",
       "    <tr>\n",
       "      <th>1</th>\n",
       "      <td>givelify</td>\n",
       "      <td>donee_merchant_data_express</td>\n",
       "      <td>32947</td>\n",
       "    </tr>\n",
       "    <tr>\n",
       "      <th>2</th>\n",
       "      <td>givelify_payments</td>\n",
       "      <td>deleted_submerchant_log</td>\n",
       "      <td>1838</td>\n",
       "    </tr>\n",
       "    <tr>\n",
       "      <th>3</th>\n",
       "      <td>givelify_payments</td>\n",
       "      <td>submerchant_log</td>\n",
       "      <td>13382</td>\n",
       "    </tr>\n",
       "    <tr>\n",
       "      <th>4</th>\n",
       "      <td>givelify_payments</td>\n",
       "      <td>underwriting_status</td>\n",
       "      <td>26484</td>\n",
       "    </tr>\n",
       "    <tr>\n",
       "      <th>5</th>\n",
       "      <td>payment_instruments</td>\n",
       "      <td>failed_jobs</td>\n",
       "      <td>0</td>\n",
       "    </tr>\n",
       "    <tr>\n",
       "      <th>6</th>\n",
       "      <td>payment_instruments</td>\n",
       "      <td>password_resets</td>\n",
       "      <td>0</td>\n",
       "    </tr>\n",
       "    <tr>\n",
       "      <th>7</th>\n",
       "      <td>payment_instruments</td>\n",
       "      <td>payment_instruments</td>\n",
       "      <td>11212</td>\n",
       "    </tr>\n",
       "    <tr>\n",
       "      <th>8</th>\n",
       "      <td>payment_instruments</td>\n",
       "      <td>users</td>\n",
       "      <td>0</td>\n",
       "    </tr>\n",
       "    <tr>\n",
       "      <th>9</th>\n",
       "      <td>salesforce_checks</td>\n",
       "      <td>contact_issues</td>\n",
       "      <td>116</td>\n",
       "    </tr>\n",
       "    <tr>\n",
       "      <th>10</th>\n",
       "      <td>salesforce_checks</td>\n",
       "      <td>donations</td>\n",
       "      <td>21702318</td>\n",
       "    </tr>\n",
       "    <tr>\n",
       "      <th>11</th>\n",
       "      <td>salesforce_checks</td>\n",
       "      <td>donee_bank_info</td>\n",
       "      <td>42625</td>\n",
       "    </tr>\n",
       "    <tr>\n",
       "      <th>12</th>\n",
       "      <td>salesforce_checks</td>\n",
       "      <td>donee_campuses</td>\n",
       "      <td>429</td>\n",
       "    </tr>\n",
       "    <tr>\n",
       "      <th>13</th>\n",
       "      <td>salesforce_checks</td>\n",
       "      <td>donee_info</td>\n",
       "      <td>60450</td>\n",
       "    </tr>\n",
       "    <tr>\n",
       "      <th>14</th>\n",
       "      <td>salesforce_checks</td>\n",
       "      <td>donee_official_info</td>\n",
       "      <td>82404</td>\n",
       "    </tr>\n",
       "    <tr>\n",
       "      <th>15</th>\n",
       "      <td>salesforce_checks</td>\n",
       "      <td>givelify_donees</td>\n",
       "      <td>45468</td>\n",
       "    </tr>\n",
       "    <tr>\n",
       "      <th>16</th>\n",
       "      <td>salesforce_checks</td>\n",
       "      <td>givelify_officials</td>\n",
       "      <td>62883</td>\n",
       "    </tr>\n",
       "    <tr>\n",
       "      <th>17</th>\n",
       "      <td>salesforce_checks</td>\n",
       "      <td>remote_contacts</td>\n",
       "      <td>66122</td>\n",
       "    </tr>\n",
       "    <tr>\n",
       "      <th>18</th>\n",
       "      <td>donee-portal</td>\n",
       "      <td>donee_report_emails</td>\n",
       "      <td>0</td>\n",
       "    </tr>\n",
       "    <tr>\n",
       "      <th>19</th>\n",
       "      <td>donee-portal</td>\n",
       "      <td>failed_jobs</td>\n",
       "      <td>1</td>\n",
       "    </tr>\n",
       "    <tr>\n",
       "      <th>20</th>\n",
       "      <td>donee-portal</td>\n",
       "      <td>new_donors</td>\n",
       "      <td>0</td>\n",
       "    </tr>\n",
       "    <tr>\n",
       "      <th>21</th>\n",
       "      <td>donee-portal</td>\n",
       "      <td>reconciliation_recipients</td>\n",
       "      <td>59165</td>\n",
       "    </tr>\n",
       "    <tr>\n",
       "      <th>22</th>\n",
       "      <td>donee-portal</td>\n",
       "      <td>reconciliation_report_logs</td>\n",
       "      <td>268933</td>\n",
       "    </tr>\n",
       "    <tr>\n",
       "      <th>23</th>\n",
       "      <td>donee-portal</td>\n",
       "      <td>reports</td>\n",
       "      <td>4611</td>\n",
       "    </tr>\n",
       "    <tr>\n",
       "      <th>24</th>\n",
       "      <td>donee-portal</td>\n",
       "      <td>sessions</td>\n",
       "      <td>21</td>\n",
       "    </tr>\n",
       "    <tr>\n",
       "      <th>25</th>\n",
       "      <td>donee-portal</td>\n",
       "      <td>signup_progress</td>\n",
       "      <td>7674</td>\n",
       "    </tr>\n",
       "    <tr>\n",
       "      <th>26</th>\n",
       "      <td>donee-portal</td>\n",
       "      <td>users</td>\n",
       "      <td>0</td>\n",
       "    </tr>\n",
       "    <tr>\n",
       "      <th>27</th>\n",
       "      <td>url_shortener</td>\n",
       "      <td>log</td>\n",
       "      <td>383753</td>\n",
       "    </tr>\n",
       "    <tr>\n",
       "      <th>28</th>\n",
       "      <td>url_shortener</td>\n",
       "      <td>url</td>\n",
       "      <td>28200</td>\n",
       "    </tr>\n",
       "  </tbody>\n",
       "</table>\n",
       "</div>"
      ],
      "text/plain": [
       "           TABLE_SCHEMA                   TABLE_NAME    length\n",
       "0              givelify          donee_merchant_data      4120\n",
       "1              givelify  donee_merchant_data_express     32947\n",
       "2     givelify_payments      deleted_submerchant_log      1838\n",
       "3     givelify_payments              submerchant_log     13382\n",
       "4     givelify_payments          underwriting_status     26484\n",
       "5   payment_instruments                  failed_jobs         0\n",
       "6   payment_instruments              password_resets         0\n",
       "7   payment_instruments          payment_instruments     11212\n",
       "8   payment_instruments                        users         0\n",
       "9     salesforce_checks               contact_issues       116\n",
       "10    salesforce_checks                    donations  21702318\n",
       "11    salesforce_checks              donee_bank_info     42625\n",
       "12    salesforce_checks               donee_campuses       429\n",
       "13    salesforce_checks                   donee_info     60450\n",
       "14    salesforce_checks          donee_official_info     82404\n",
       "15    salesforce_checks              givelify_donees     45468\n",
       "16    salesforce_checks           givelify_officials     62883\n",
       "17    salesforce_checks              remote_contacts     66122\n",
       "18         donee-portal          donee_report_emails         0\n",
       "19         donee-portal                  failed_jobs         1\n",
       "20         donee-portal                   new_donors         0\n",
       "21         donee-portal    reconciliation_recipients     59165\n",
       "22         donee-portal   reconciliation_report_logs    268933\n",
       "23         donee-portal                      reports      4611\n",
       "24         donee-portal                     sessions        21\n",
       "25         donee-portal              signup_progress      7674\n",
       "26         donee-portal                        users         0\n",
       "27        url_shortener                          log    383753\n",
       "28        url_shortener                          url     28200"
      ]
     },
     "execution_count": 36,
     "metadata": {},
     "output_type": "execute_result"
    }
   ],
   "source": [
    "unique_tables_for_columns = columns_config.drop_duplicates(\n",
    "    ['TABLE_SCHEMA', 'TABLE_NAME']\n",
    ")[['TABLE_SCHEMA', 'TABLE_NAME', 'length']]\n",
    "unique_tables_for_tables = tables_config.drop_duplicates(    \n",
    "    ['TABLE_SCHEMA', 'TABLE_NAME']\n",
    ")[['TABLE_SCHEMA', 'TABLE_NAME']]\n",
    "unique_tables = pd.concat(\n",
    "    [unique_tables_for_columns, unique_tables_for_tables],\n",
    "    axis=0,\n",
    "    ignore_index=True\n",
    ")\n",
    "unique_tables"
   ]
  },
  {
   "cell_type": "code",
   "execution_count": 37,
   "id": "moving-quantum",
   "metadata": {},
   "outputs": [],
   "source": [
    "def clone_table(database, table, length, suffix, chunk_size):\n",
    "    new_table = \"%s%s\" % (table, suffix)\n",
    "    try:\n",
    "        query = \"DROP TABLE IF EXISTS `%s`.`%s`\" % (\n",
    "            database, new_table\n",
    "        )\n",
    "        source_connection.execute(query)\n",
    "    except Exception as e:\n",
    "        print(e)\n",
    "    query = \"CREATE TABLE `%s`.`%s` LIKE `%s`.`%s`\" % (\n",
    "        database, new_table, database, table\n",
    "    )\n",
    "    source_connection.execute(query)\n",
    "    \n",
    "    query = \"SET unique_checks=0; SET foreign_key_checks=0; \"\n",
    "    source_connection.execute(query)\n",
    "    \n",
    "    query = \"ALTER TABLE `%s`.`%s` ENABLE KEYS;\" % (\n",
    "        database, new_table\n",
    "    )\n",
    "    query = \"SET unique_checks=1; SET foreign_key_checks=1;\"\n",
    "    source_connection.execute(query)"
   ]
  },
  {
   "cell_type": "code",
   "execution_count": 38,
   "id": "cordless-mauritius",
   "metadata": {},
   "outputs": [
    {
     "name": "stderr",
     "output_type": "stream",
     "text": [
      "100%|██████████| 29/29 [00:09<00:00,  2.98it/s]\n"
     ]
    }
   ],
   "source": [
    "for index, row in tqdm(unique_tables.iterrows(), total=len(unique_tables)):\n",
    "    clone_table(\n",
    "        row['TABLE_SCHEMA'], \n",
    "        row['TABLE_NAME'], \n",
    "        row['length'], \n",
    "        temporary_table_suffix,\n",
    "        chunk_size\n",
    "    )"
   ]
  },
  {
   "cell_type": "markdown",
   "id": "changing-theta",
   "metadata": {},
   "source": [
    "### Scrubing"
   ]
  },
  {
   "cell_type": "code",
   "execution_count": 39,
   "id": "accurate-tanzania",
   "metadata": {},
   "outputs": [],
   "source": [
    "fake = Faker()"
   ]
  },
  {
   "cell_type": "code",
   "execution_count": 40,
   "id": "embedded-geology",
   "metadata": {},
   "outputs": [
    {
     "data": {
      "text/plain": [
       "'0564 Lacey Trace Suite 800\\nSmithville, NH 41117'"
      ]
     },
     "execution_count": 40,
     "metadata": {},
     "output_type": "execute_result"
    }
   ],
   "source": [
    "fake.address()"
   ]
  },
  {
   "cell_type": "code",
   "execution_count": 41,
   "id": "natural-reserve",
   "metadata": {},
   "outputs": [],
   "source": [
    "custom_sanitization_function={\n",
    "    #'<db_name>.<table_name>.<column_name>': function reference\n",
    "    'givelify.donee_merchant_data.fld_address1': fake.address,\n",
    "    'givelify.donee_merchant_data.fld_address2': fake.address,\n",
    "    'payment_instruments.payment_instruments.address1': fake.address,\n",
    "    'payment_instruments.payment_instruments.address2': fake.address,\n",
    "    'salesforce_checks.donations.ip_address': fake.address,\n",
    "    'salesforce_checks.donee_bank_info.billing_address': fake.address,\n",
    "    'donee-portal.new_donors.full_address': fake.address,\n",
    "    'donee-portal.signup_progress.address': fake.address,\n",
    "}"
   ]
  },
  {
   "cell_type": "code",
   "execution_count": 42,
   "id": "classical-progressive",
   "metadata": {},
   "outputs": [],
   "source": [
    "hash_seed = 0\n",
    "def numeric_hash(num):\n",
    "    global hash_seed\n",
    "    hash_seed+=1\n",
    "    return hash(str(num)+str(hash_seed+1))"
   ]
  },
  {
   "cell_type": "code",
   "execution_count": 43,
   "id": "ceramic-tumor",
   "metadata": {},
   "outputs": [],
   "source": [
    "def numeric_hash_range(num, min_value, max_value):\n",
    "    if min_value is None:\n",
    "        min_value = 0\n",
    "    if max_value is None:\n",
    "        max_value = int(num)\n",
    "    deno = max_value-min_value\n",
    "    if deno == 0:\n",
    "        deno = 1\n",
    "    return min_value + (numeric_hash(num) % (deno))"
   ]
  },
  {
   "cell_type": "code",
   "execution_count": 44,
   "id": "figured-fraud",
   "metadata": {},
   "outputs": [],
   "source": [
    "def sanitize_numeric(cell_value, table_name, column_name, min_value, max_value, is_unique, unique_list):\n",
    "    collision_probability = 0.1\n",
    "    cell_value = numeric_hash_range(cell_value, min_value, max_value)\n",
    "    index = 0\n",
    "    if min_value is None:\n",
    "        min_value = 0\n",
    "    if max_value is None:\n",
    "        max_value = int(cell_value)\n",
    "\n",
    "    \n",
    "    while is_unique and cell_value in unique_list:\n",
    "        max_multiple = 1/collision_probability\n",
    "        cell_value = numeric_hash_range(str(cell_value)+\"1\", min_value, max_value*max_multiple) + index\n",
    "        index+=1\n",
    "    unique_list.add(cell_value)\n",
    "    return cell_value"
   ]
  },
  {
   "cell_type": "code",
   "execution_count": 45,
   "id": "adjacent-vienna",
   "metadata": {},
   "outputs": [],
   "source": [
    "def character_hash_upper(char):\n",
    "    return chr(numeric_hash_range(ord(char), 65, 90))"
   ]
  },
  {
   "cell_type": "code",
   "execution_count": 46,
   "id": "administrative-major",
   "metadata": {},
   "outputs": [],
   "source": [
    "def character_hash_lower(char):\n",
    "    return chr(numeric_hash_range(ord(char), 97, 122))"
   ]
  },
  {
   "cell_type": "code",
   "execution_count": 47,
   "id": "peripheral-jaguar",
   "metadata": {},
   "outputs": [],
   "source": [
    "def in_custom_sanitization_function(table_name, column_name):\n",
    "    return F\"{table_name}.{column_name}\" in custom_sanitization_function"
   ]
  },
  {
   "cell_type": "code",
   "execution_count": 48,
   "id": "joint-protocol",
   "metadata": {},
   "outputs": [],
   "source": [
    "def sanitize_string_raw(cell_value, is_unique, unique_list):\n",
    "    chs = []\n",
    "    for ch in cell_value:\n",
    "        if ch == \" \":\n",
    "            chs.append(ch)\n",
    "        elif re.match(r\"^[^a-zA-Z0-9]+$\", ch):\n",
    "            chs.append(ch)\n",
    "        elif re.match(r\"^[0-9]+$\", ch):\n",
    "            chs.append(str(numeric_hash_range(ch,0,9)))\n",
    "        elif re.match(r\"^[A-Z]+$\", ch):\n",
    "            x = \"AEIOU\"\n",
    "            if ch in x:\n",
    "                chs.append(x[numeric_hash_range(ch, 0, 4)])\n",
    "            else:\n",
    "                chs.append(character_hash_upper(ch))\n",
    "        elif re.match(r\"^[a-z]+$\", ch):\n",
    "            x = \"aeiou\"\n",
    "            if ch in x:\n",
    "                chs.append(x[numeric_hash_range(ch, 0, 4)])\n",
    "            else:\n",
    "                chs.append(character_hash_lower(ch))\n",
    "        else:\n",
    "            chs.append(character_hash(ch))\n",
    "    cell_value = \"\".join(chs)\n",
    "    while is_unique and cell_value in unique_list:\n",
    "        cell_value+=cell_value[len(cell_value) - 1]\n",
    "    unique_list.add(cell_value)\n",
    "    return cell_value"
   ]
  },
  {
   "cell_type": "code",
   "execution_count": 49,
   "id": "dominican-ghost",
   "metadata": {},
   "outputs": [],
   "source": [
    "def sanitize_string(cell_value, table_name, column_name, min_value, max_value, is_unique, unique_list):\n",
    "    if in_custom_sanitization_function(table_name, column_name):\n",
    "        return custom_sanitization_function[F\"{table_name}.{column_name}\"](\n",
    "            cell_value, \n",
    "            min_value, \n",
    "            max_value, \n",
    "            is_unique, \n",
    "            unique_list\n",
    "        )\n",
    "    return sanitize_string_raw(cell_value, is_unique, unique_list)    "
   ]
  },
  {
   "cell_type": "code",
   "execution_count": 50,
   "id": "characteristic-booking",
   "metadata": {},
   "outputs": [],
   "source": [
    "def is_numeric(value):\n",
    "    return value is not None and (isinstance(value, numbers.Number) or str(value).isnumeric())\n",
    "\n",
    "def is_string(value):\n",
    "    return value is not None and isinstance(value, str)"
   ]
  },
  {
   "cell_type": "code",
   "execution_count": 51,
   "id": "prepared-pleasure",
   "metadata": {},
   "outputs": [],
   "source": [
    "sanitize_map = {}"
   ]
  },
  {
   "cell_type": "code",
   "execution_count": 52,
   "id": "final-canvas",
   "metadata": {},
   "outputs": [],
   "source": [
    "def sanitize_cell(cell_value, table_name, column_name, min_value, max_value, is_unique, unique_list):\n",
    "    if cell_value in sanitize_map:\n",
    "        return sanitize_map[cell_value]\n",
    "    new_cell_value = cell_value\n",
    "    if cell_value is None:\n",
    "        return cell_value\n",
    "    elif is_numeric(cell_value):\n",
    "        new_cell_value = sanitize_numeric(cell_value, table_name, column_name, min_value, max_value, is_unique, unique_list)\n",
    "    elif is_string(cell_value):\n",
    "        new_cell_value = sanitize_string(cell_value, table_name, column_name, min_value, max_value, is_unique, unique_list)\n",
    "    sanitize_map[cell_value] = new_cell_value\n",
    "    return new_cell_value"
   ]
  },
  {
   "cell_type": "code",
   "execution_count": 53,
   "id": "thick-cotton",
   "metadata": {},
   "outputs": [],
   "source": [
    "def clean_number(num):\n",
    "    str_num = str(num)\n",
    "    if str_num == \"0\" or str_num == \"0.0\":\n",
    "        return ast.literal_eval(str_num)\n",
    "    else:\n",
    "        return ast.literal_eval(str_num.strip(\"0\"))"
   ]
  },
  {
   "cell_type": "code",
   "execution_count": 54,
   "id": "corrected-photograph",
   "metadata": {},
   "outputs": [],
   "source": [
    "def get_query(table, database_name, table_name, temporary_table_suffix):\n",
    "    query = \"\"\"INSERT IGNORE INTO `%s`.`%s%s` VALUES \"\"\" % (database_name, table_name, temporary_table_suffix)\n",
    "    fmt_values = []\n",
    "    values = []\n",
    "    count = 0\n",
    "    \n",
    "    for index, r in table.iterrows():\n",
    "        count += len(r)\n",
    "        fmt_values.append(\",\".join([\"%s\" for v in r]))\n",
    "        for v in r:\n",
    "            if str(v).lower() == \"nan\":\n",
    "                v = None\n",
    "            values.append(v)\n",
    "    \n",
    "    query = query+\" (\"+(\"),(\".join(fmt_values)) +\")\"\n",
    "\n",
    "    return query, values"
   ]
  },
  {
   "cell_type": "code",
   "execution_count": 55,
   "id": "renewable-situation",
   "metadata": {},
   "outputs": [
    {
     "name": "stderr",
     "output_type": "stream",
     "text": [
      "100%|██████████| 10/10 [00:00<00:00, 20.69it/s]\n"
     ]
    }
   ],
   "source": [
    "for connection in tqdm(list(connection_pool.keys())):\n",
    "    connection.execute('SET unique_checks=0; SET FOREIGN_KEY_CHECKS=0;')"
   ]
  },
  {
   "cell_type": "code",
   "execution_count": 56,
   "id": "tracked-patrol",
   "metadata": {},
   "outputs": [],
   "source": [
    "def sanitize_table_chunk(\n",
    "    database, table_name, columns, \n",
    "    chunk_size, row_count, temporary_table_suffix,\n",
    "    unique_list, iteration, connection\n",
    "):\n",
    "    wait_for_connection_release(connection)\n",
    "    connection_pool[connection] = True\n",
    "    try:\n",
    "        count = iteration * chunk_size\n",
    "        if chunk_size > row_count:\n",
    "            chunk_size = row_count\n",
    "        query = \"SELECT * FROM `%s`.`%s` LIMIT %s OFFSET %s;\" % (\n",
    "            database, \n",
    "            table_name, \n",
    "            str(chunk_size), \n",
    "            str(count)\n",
    "        )\n",
    "        table = pd.read_sql_query(query, connection)\n",
    "        for column_name in table.columns:\n",
    "            if column_name not in columns['COLUMN_NAME'].tolist():\n",
    "                continue\n",
    "            if column_name not in unique_list:\n",
    "                unique_list[column_name] = set()\n",
    "            column = table[column_name]\n",
    "            min_value = None\n",
    "            max_value = None\n",
    "            try:\n",
    "                min_value = clean_number(column.fillna(0).min())\n",
    "                max_value = clean_number(column.fillna(0).max())\n",
    "            except Exception as e:\n",
    "                pass\n",
    "            if min_value is None:\n",
    "                try:\n",
    "                    min_value = clean_number(column.fillna('0').min())\n",
    "                    max_value = clean_number(column.fillna('0').max())\n",
    "                except Exception as e:\n",
    "                    pass\n",
    "            is_unique = columns[columns['COLUMN_NAME'] == column_name]['is_unique'].tolist()[0]\n",
    "            table[column_name] = column.apply(\n",
    "                sanitize_cell,\n",
    "                args=\n",
    "                (\n",
    "                    table_name, \n",
    "                    column_name,\n",
    "                    min_value,\n",
    "                    max_value,\n",
    "                    is_unique,\n",
    "                    unique_list[column_name]\n",
    "                )\n",
    "            )\n",
    "        query, inputs = get_query(table, database, table_name, temporary_table_suffix)\n",
    "        connection.execute(query, inputs)\n",
    "    except Exception as e:\n",
    "        print(e)\n",
    "        traceback.print_exc()\n",
    "    finally:\n",
    "        connection_release(connection)"
   ]
  },
  {
   "cell_type": "code",
   "execution_count": 57,
   "id": "expired-restoration",
   "metadata": {},
   "outputs": [],
   "source": [
    "def sanitize_table(\n",
    "    database, table_name, columns, \n",
    "    chunk_size, row_count, temporary_table_suffix\n",
    "):\n",
    "    iterations = int(math.ceil(row_count / chunk_size))\n",
    "    unique_list = {}\n",
    "    args = []\n",
    "    for iteration in tqdm(range(iterations), position=0, leave=True):\n",
    "        connection = get_any_connection()\n",
    "        args.append((\n",
    "            database, table_name, columns.copy(), \n",
    "            chunk_size, row_count, temporary_table_suffix,\n",
    "            unique_list, iteration, connection\n",
    "        ))\n",
    "    futures = []\n",
    "    with concurrent.futures.ThreadPoolExecutor(max_workers=connection_count) as executor:\n",
    "        for arg in args:\n",
    "            futures.append(executor.submit(sanitize_table_chunk, *arg))\n",
    "        for future in tqdm(concurrent.futures.as_completed(futures), total=len(futures), position=0, leave=True):\n",
    "            try:\n",
    "                future.result()\n",
    "            except BaseException as e:\n",
    "                print(e)\n",
    "                traceback.print_exc()"
   ]
  },
  {
   "cell_type": "code",
   "execution_count": 58,
   "id": "focused-woman",
   "metadata": {
    "scrolled": true
   },
   "outputs": [
    {
     "name": "stderr",
     "output_type": "stream",
     "text": [
      "100%|██████████| 1/1 [00:00<00:00, 1934.64it/s]\n",
      "100%|██████████| 1/1 [01:30<00:00, 90.17s/it]\n",
      "100%|██████████| 2/2 [00:00<00:00, 11602.50it/s]\n",
      "100%|██████████| 2/2 [00:06<00:00,  3.47s/it]\n",
      "100%|██████████| 1/1 [00:00<00:00, 3923.58it/s]\n",
      "100%|██████████| 1/1 [00:01<00:00,  1.09s/it]\n",
      "100%|██████████| 1/1 [00:00<00:00, 6000.43it/s]\n",
      "100%|██████████| 1/1 [00:59<00:00, 59.93s/it]\n",
      "100%|██████████| 1/1 [00:00<00:00, 6523.02it/s]\n",
      "100%|██████████| 1/1 [00:15<00:00, 15.45s/it]\n",
      "0it [00:00, ?it/s]/29 [02:53<11:49, 29.57s/it]\n",
      "0it [00:00, ?it/s]\n",
      "0it [00:00, ?it/s]\n",
      "0it [00:00, ?it/s]\n",
      "100%|██████████| 1/1 [00:00<00:00, 7884.03it/s]\n",
      "100%|██████████| 1/1 [00:05<00:00,  5.11s/it]\n",
      "0it [00:00, ?it/s]/29 [02:58<04:25, 12.65s/it]\n",
      "0it [00:00, ?it/s]\n",
      "100%|██████████| 1/1 [00:00<00:00, 5570.12it/s]\n",
      "100%|██████████| 1/1 [00:00<00:00,  5.87it/s]\n",
      "100%|██████████| 724/724 [00:00<00:00, 42615.23it/s]\n",
      "100%|██████████| 724/724 [2:09:22<00:00, 10.72s/it]  \n",
      "100%|██████████| 2/2 [00:00<00:00, 8924.05it/s]0s/it]\n",
      "100%|██████████| 2/2 [02:18<00:00, 69.35s/it]\n",
      "100%|██████████| 1/1 [00:00<00:00, 3118.44it/s]3s/it]\n",
      "100%|██████████| 1/1 [00:00<00:00,  3.16it/s]\n",
      "100%|██████████| 3/3 [00:00<00:00, 11145.18it/s]/it] \n",
      "100%|██████████| 3/3 [00:25<00:00,  8.55s/it]\n",
      "100%|██████████| 3/3 [00:00<00:00, 9539.74it/s]s/it]\n",
      "100%|██████████| 3/3 [06:28<00:00, 129.39s/it]\n",
      "100%|██████████| 2/2 [00:00<00:00, 8612.53it/s]s/it]\n",
      "100%|██████████| 2/2 [00:09<00:00,  4.75s/it]\n",
      "100%|██████████| 3/3 [00:00<00:00, 13903.77it/s]/it]\n",
      "100%|██████████| 3/3 [00:06<00:00,  2.04s/it]\n",
      "100%|██████████| 3/3 [00:00<00:00, 11705.03it/s]/it]\n",
      "100%|██████████| 3/3 [00:08<00:00,  2.77s/it]\n",
      "0it [00:00, ?it/s]8/29 [2:21:57<43:13, 235.75s/it]  \n",
      "0it [00:00, ?it/s]\n",
      "100%|██████████| 1/1 [00:00<00:00, 6647.07it/s]\n",
      "100%|██████████| 1/1 [00:00<00:00,  5.53it/s]\n",
      "0it [00:00, ?it/s]0/29 [2:21:58<19:21, 129.10s/it]\n",
      "0it [00:00, ?it/s]\n",
      "100%|██████████| 2/2 [00:00<00:00, 9686.61it/s]\n",
      "100%|██████████| 2/2 [00:08<00:00,  4.01s/it]\n",
      "100%|██████████| 9/9 [00:00<00:00, 26159.90it/s]] \n",
      "100%|██████████| 9/9 [00:55<00:00,  6.12s/it]\n",
      "100%|██████████| 1/1 [00:00<00:00, 7084.97it/s]t]\n",
      "100%|██████████| 1/1 [00:02<00:00,  2.21s/it]\n",
      "100%|██████████| 1/1 [00:00<00:00, 5419.00it/s]t]\n",
      "100%|██████████| 1/1 [00:00<00:00,  3.76it/s]\n",
      "100%|██████████| 1/1 [00:00<00:00, 5165.40it/s]t]\n",
      "100%|██████████| 1/1 [01:04<00:00, 64.01s/it]\n",
      "0it [00:00, ?it/s]6/29 [2:24:07<02:25, 48.46s/it]\n",
      "0it [00:00, ?it/s]\n",
      "100%|██████████| 13/13 [00:00<00:00, 32340.42it/s]\n",
      "100%|██████████| 13/13 [01:06<00:00,  5.10s/it]\n",
      "100%|██████████| 1/1 [00:00<00:00, 6250.83it/s]t]\n",
      "100%|██████████| 1/1 [00:05<00:00,  5.70s/it]\n",
      "100%|██████████| 29/29 [2:25:19<00:00, 300.68s/it]\n"
     ]
    }
   ],
   "source": [
    "release_all_connections()\n",
    "for index, row in tqdm(unique_tables.iterrows(), total=len(unique_tables), position=0, leave=True):\n",
    "    columns = columns_config[(columns_config['TABLE_SCHEMA'] == row['TABLE_SCHEMA']) & (columns_config['TABLE_NAME'] == row['TABLE_NAME'])]\n",
    "    sanitize_table(\n",
    "        row['TABLE_SCHEMA'], \n",
    "        row['TABLE_NAME'], \n",
    "        columns, \n",
    "        chunk_size, \n",
    "        row['length'],\n",
    "        temporary_table_suffix\n",
    "    )"
   ]
  },
  {
   "cell_type": "code",
   "execution_count": 59,
   "id": "surgical-arbor",
   "metadata": {},
   "outputs": [
    {
     "data": {
      "text/html": [
       "<div>\n",
       "<style scoped>\n",
       "    .dataframe tbody tr th:only-of-type {\n",
       "        vertical-align: middle;\n",
       "    }\n",
       "\n",
       "    .dataframe tbody tr th {\n",
       "        vertical-align: top;\n",
       "    }\n",
       "\n",
       "    .dataframe thead th {\n",
       "        text-align: right;\n",
       "    }\n",
       "</style>\n",
       "<table border=\"1\" class=\"dataframe\">\n",
       "  <thead>\n",
       "    <tr style=\"text-align: right;\">\n",
       "      <th></th>\n",
       "      <th>TABLE_SCHEMA</th>\n",
       "      <th>TABLE_NAME</th>\n",
       "      <th>COLUMN_NAME</th>\n",
       "      <th>ACTION</th>\n",
       "      <th>min</th>\n",
       "      <th>length</th>\n",
       "      <th>is_unique</th>\n",
       "      <th>max</th>\n",
       "    </tr>\n",
       "  </thead>\n",
       "  <tbody>\n",
       "    <tr>\n",
       "      <th>0</th>\n",
       "      <td>givelify</td>\n",
       "      <td>donee_merchant_data</td>\n",
       "      <td>fld_key</td>\n",
       "      <td>scrub</td>\n",
       "      <td>1</td>\n",
       "      <td>4120</td>\n",
       "      <td>True</td>\n",
       "      <td>4121.0</td>\n",
       "    </tr>\n",
       "    <tr>\n",
       "      <th>17</th>\n",
       "      <td>givelify</td>\n",
       "      <td>donee_merchant_data_express</td>\n",
       "      <td>id</td>\n",
       "      <td>scrub</td>\n",
       "      <td>1</td>\n",
       "      <td>32947</td>\n",
       "      <td>True</td>\n",
       "      <td>33045</td>\n",
       "    </tr>\n",
       "    <tr>\n",
       "      <th>26</th>\n",
       "      <td>givelify_payments</td>\n",
       "      <td>deleted_submerchant_log</td>\n",
       "      <td>response</td>\n",
       "      <td>scrub</td>\n",
       "      <td>None</td>\n",
       "      <td>1838</td>\n",
       "      <td>True</td>\n",
       "      <td>NaN</td>\n",
       "    </tr>\n",
       "    <tr>\n",
       "      <th>27</th>\n",
       "      <td>givelify_payments</td>\n",
       "      <td>submerchant_log</td>\n",
       "      <td>acceptor_id</td>\n",
       "      <td>scrub</td>\n",
       "      <td>None</td>\n",
       "      <td>13382</td>\n",
       "      <td>True</td>\n",
       "      <td>NaN</td>\n",
       "    </tr>\n",
       "    <tr>\n",
       "      <th>31</th>\n",
       "      <td>givelify_payments</td>\n",
       "      <td>underwriting_status</td>\n",
       "      <td>response</td>\n",
       "      <td>scrub</td>\n",
       "      <td>None</td>\n",
       "      <td>26484</td>\n",
       "      <td>True</td>\n",
       "      <td>NaN</td>\n",
       "    </tr>\n",
       "    <tr>\n",
       "      <th>32</th>\n",
       "      <td>payment_instruments</td>\n",
       "      <td>failed_jobs</td>\n",
       "      <td>payload</td>\n",
       "      <td>scrub</td>\n",
       "      <td>None</td>\n",
       "      <td>0</td>\n",
       "      <td>True</td>\n",
       "      <td>NaN</td>\n",
       "    </tr>\n",
       "    <tr>\n",
       "      <th>34</th>\n",
       "      <td>payment_instruments</td>\n",
       "      <td>password_resets</td>\n",
       "      <td>email</td>\n",
       "      <td>scrub</td>\n",
       "      <td>None</td>\n",
       "      <td>0</td>\n",
       "      <td>True</td>\n",
       "      <td>NaN</td>\n",
       "    </tr>\n",
       "    <tr>\n",
       "      <th>36</th>\n",
       "      <td>payment_instruments</td>\n",
       "      <td>payment_instruments</td>\n",
       "      <td>masked</td>\n",
       "      <td>scrub</td>\n",
       "      <td>None</td>\n",
       "      <td>11212</td>\n",
       "      <td>False</td>\n",
       "      <td>NaN</td>\n",
       "    </tr>\n",
       "    <tr>\n",
       "      <th>50</th>\n",
       "      <td>payment_instruments</td>\n",
       "      <td>users</td>\n",
       "      <td>name</td>\n",
       "      <td>scrub</td>\n",
       "      <td>None</td>\n",
       "      <td>0</td>\n",
       "      <td>True</td>\n",
       "      <td>NaN</td>\n",
       "    </tr>\n",
       "    <tr>\n",
       "      <th>54</th>\n",
       "      <td>salesforce_checks</td>\n",
       "      <td>contact_issues</td>\n",
       "      <td>email</td>\n",
       "      <td>scrub</td>\n",
       "      <td>None</td>\n",
       "      <td>116</td>\n",
       "      <td>True</td>\n",
       "      <td>NaN</td>\n",
       "    </tr>\n",
       "    <tr>\n",
       "      <th>55</th>\n",
       "      <td>salesforce_checks</td>\n",
       "      <td>donations</td>\n",
       "      <td>MaskedPAN</td>\n",
       "      <td>scrub</td>\n",
       "      <td>None</td>\n",
       "      <td>21702318</td>\n",
       "      <td>False</td>\n",
       "      <td>NaN</td>\n",
       "    </tr>\n",
       "    <tr>\n",
       "      <th>57</th>\n",
       "      <td>salesforce_checks</td>\n",
       "      <td>donee_bank_info</td>\n",
       "      <td>account_number</td>\n",
       "      <td>scrub</td>\n",
       "      <td>None</td>\n",
       "      <td>42625</td>\n",
       "      <td>False</td>\n",
       "      <td>NaN</td>\n",
       "    </tr>\n",
       "    <tr>\n",
       "      <th>75</th>\n",
       "      <td>salesforce_checks</td>\n",
       "      <td>donee_campuses</td>\n",
       "      <td>contact_number</td>\n",
       "      <td>scrub</td>\n",
       "      <td>None</td>\n",
       "      <td>429</td>\n",
       "      <td>False</td>\n",
       "      <td>NaN</td>\n",
       "    </tr>\n",
       "    <tr>\n",
       "      <th>76</th>\n",
       "      <td>salesforce_checks</td>\n",
       "      <td>donee_info</td>\n",
       "      <td>email</td>\n",
       "      <td>scrub</td>\n",
       "      <td>None</td>\n",
       "      <td>60450</td>\n",
       "      <td>False</td>\n",
       "      <td>NaN</td>\n",
       "    </tr>\n",
       "    <tr>\n",
       "      <th>78</th>\n",
       "      <td>salesforce_checks</td>\n",
       "      <td>donee_official_info</td>\n",
       "      <td>email</td>\n",
       "      <td>scrub</td>\n",
       "      <td>None</td>\n",
       "      <td>82404</td>\n",
       "      <td>False</td>\n",
       "      <td>NaN</td>\n",
       "    </tr>\n",
       "    <tr>\n",
       "      <th>83</th>\n",
       "      <td>salesforce_checks</td>\n",
       "      <td>givelify_donees</td>\n",
       "      <td>taxid</td>\n",
       "      <td>scrub</td>\n",
       "      <td>None</td>\n",
       "      <td>45468</td>\n",
       "      <td>False</td>\n",
       "      <td>NaN</td>\n",
       "    </tr>\n",
       "    <tr>\n",
       "      <th>84</th>\n",
       "      <td>salesforce_checks</td>\n",
       "      <td>givelify_officials</td>\n",
       "      <td>email</td>\n",
       "      <td>scrub</td>\n",
       "      <td>None</td>\n",
       "      <td>62883</td>\n",
       "      <td>False</td>\n",
       "      <td>NaN</td>\n",
       "    </tr>\n",
       "    <tr>\n",
       "      <th>85</th>\n",
       "      <td>salesforce_checks</td>\n",
       "      <td>remote_contacts</td>\n",
       "      <td>Email</td>\n",
       "      <td>scrub</td>\n",
       "      <td>None</td>\n",
       "      <td>66122</td>\n",
       "      <td>False</td>\n",
       "      <td>NaN</td>\n",
       "    </tr>\n",
       "    <tr>\n",
       "      <th>86</th>\n",
       "      <td>donee-portal</td>\n",
       "      <td>donee_report_emails</td>\n",
       "      <td>official_name</td>\n",
       "      <td>scrub</td>\n",
       "      <td>None</td>\n",
       "      <td>0</td>\n",
       "      <td>True</td>\n",
       "      <td>NaN</td>\n",
       "    </tr>\n",
       "    <tr>\n",
       "      <th>89</th>\n",
       "      <td>donee-portal</td>\n",
       "      <td>failed_jobs</td>\n",
       "      <td>payload</td>\n",
       "      <td>scrub</td>\n",
       "      <td>None</td>\n",
       "      <td>1</td>\n",
       "      <td>True</td>\n",
       "      <td>NaN</td>\n",
       "    </tr>\n",
       "    <tr>\n",
       "      <th>90</th>\n",
       "      <td>donee-portal</td>\n",
       "      <td>new_donors</td>\n",
       "      <td>email</td>\n",
       "      <td>scrub</td>\n",
       "      <td>None</td>\n",
       "      <td>0</td>\n",
       "      <td>True</td>\n",
       "      <td>NaN</td>\n",
       "    </tr>\n",
       "    <tr>\n",
       "      <th>93</th>\n",
       "      <td>donee-portal</td>\n",
       "      <td>reconciliation_recipients</td>\n",
       "      <td>email</td>\n",
       "      <td>scrub</td>\n",
       "      <td>None</td>\n",
       "      <td>59165</td>\n",
       "      <td>True</td>\n",
       "      <td>NaN</td>\n",
       "    </tr>\n",
       "    <tr>\n",
       "      <th>94</th>\n",
       "      <td>donee-portal</td>\n",
       "      <td>reconciliation_report_logs</td>\n",
       "      <td>email</td>\n",
       "      <td>scrub</td>\n",
       "      <td>None</td>\n",
       "      <td>268933</td>\n",
       "      <td>False</td>\n",
       "      <td>NaN</td>\n",
       "    </tr>\n",
       "    <tr>\n",
       "      <th>96</th>\n",
       "      <td>donee-portal</td>\n",
       "      <td>reports</td>\n",
       "      <td>s3_key</td>\n",
       "      <td>scrub</td>\n",
       "      <td>None</td>\n",
       "      <td>4611</td>\n",
       "      <td>False</td>\n",
       "      <td>NaN</td>\n",
       "    </tr>\n",
       "    <tr>\n",
       "      <th>97</th>\n",
       "      <td>donee-portal</td>\n",
       "      <td>sessions</td>\n",
       "      <td>ip_address</td>\n",
       "      <td>scrub</td>\n",
       "      <td>None</td>\n",
       "      <td>21</td>\n",
       "      <td>False</td>\n",
       "      <td>NaN</td>\n",
       "    </tr>\n",
       "    <tr>\n",
       "      <th>98</th>\n",
       "      <td>donee-portal</td>\n",
       "      <td>signup_progress</td>\n",
       "      <td>organization_name</td>\n",
       "      <td>scrub</td>\n",
       "      <td>None</td>\n",
       "      <td>7674</td>\n",
       "      <td>False</td>\n",
       "      <td>NaN</td>\n",
       "    </tr>\n",
       "    <tr>\n",
       "      <th>115</th>\n",
       "      <td>donee-portal</td>\n",
       "      <td>users</td>\n",
       "      <td>email</td>\n",
       "      <td>scrub</td>\n",
       "      <td>None</td>\n",
       "      <td>0</td>\n",
       "      <td>True</td>\n",
       "      <td>NaN</td>\n",
       "    </tr>\n",
       "    <tr>\n",
       "      <th>117</th>\n",
       "      <td>url_shortener</td>\n",
       "      <td>log</td>\n",
       "      <td>ip_address</td>\n",
       "      <td>scrub</td>\n",
       "      <td>None</td>\n",
       "      <td>383753</td>\n",
       "      <td>False</td>\n",
       "      <td>NaN</td>\n",
       "    </tr>\n",
       "    <tr>\n",
       "      <th>118</th>\n",
       "      <td>url_shortener</td>\n",
       "      <td>url</td>\n",
       "      <td>ip</td>\n",
       "      <td>scrub</td>\n",
       "      <td>None</td>\n",
       "      <td>28200</td>\n",
       "      <td>False</td>\n",
       "      <td>NaN</td>\n",
       "    </tr>\n",
       "  </tbody>\n",
       "</table>\n",
       "</div>"
      ],
      "text/plain": [
       "            TABLE_SCHEMA                   TABLE_NAME        COLUMN_NAME  \\\n",
       "0               givelify          donee_merchant_data            fld_key   \n",
       "17              givelify  donee_merchant_data_express                 id   \n",
       "26     givelify_payments      deleted_submerchant_log           response   \n",
       "27     givelify_payments              submerchant_log        acceptor_id   \n",
       "31     givelify_payments          underwriting_status           response   \n",
       "32   payment_instruments                  failed_jobs            payload   \n",
       "34   payment_instruments              password_resets              email   \n",
       "36   payment_instruments          payment_instruments             masked   \n",
       "50   payment_instruments                        users               name   \n",
       "54     salesforce_checks               contact_issues              email   \n",
       "55     salesforce_checks                    donations          MaskedPAN   \n",
       "57     salesforce_checks              donee_bank_info     account_number   \n",
       "75     salesforce_checks               donee_campuses     contact_number   \n",
       "76     salesforce_checks                   donee_info              email   \n",
       "78     salesforce_checks          donee_official_info              email   \n",
       "83     salesforce_checks              givelify_donees              taxid   \n",
       "84     salesforce_checks           givelify_officials              email   \n",
       "85     salesforce_checks              remote_contacts              Email   \n",
       "86          donee-portal          donee_report_emails      official_name   \n",
       "89          donee-portal                  failed_jobs            payload   \n",
       "90          donee-portal                   new_donors              email   \n",
       "93          donee-portal    reconciliation_recipients              email   \n",
       "94          donee-portal   reconciliation_report_logs              email   \n",
       "96          donee-portal                      reports             s3_key   \n",
       "97          donee-portal                     sessions         ip_address   \n",
       "98          donee-portal              signup_progress  organization_name   \n",
       "115         donee-portal                        users              email   \n",
       "117        url_shortener                          log         ip_address   \n",
       "118        url_shortener                          url                 ip   \n",
       "\n",
       "    ACTION   min    length is_unique     max  \n",
       "0    scrub     1      4120      True  4121.0  \n",
       "17   scrub     1     32947      True   33045  \n",
       "26   scrub  None      1838      True     NaN  \n",
       "27   scrub  None     13382      True     NaN  \n",
       "31   scrub  None     26484      True     NaN  \n",
       "32   scrub  None         0      True     NaN  \n",
       "34   scrub  None         0      True     NaN  \n",
       "36   scrub  None     11212     False     NaN  \n",
       "50   scrub  None         0      True     NaN  \n",
       "54   scrub  None       116      True     NaN  \n",
       "55   scrub  None  21702318     False     NaN  \n",
       "57   scrub  None     42625     False     NaN  \n",
       "75   scrub  None       429     False     NaN  \n",
       "76   scrub  None     60450     False     NaN  \n",
       "78   scrub  None     82404     False     NaN  \n",
       "83   scrub  None     45468     False     NaN  \n",
       "84   scrub  None     62883     False     NaN  \n",
       "85   scrub  None     66122     False     NaN  \n",
       "86   scrub  None         0      True     NaN  \n",
       "89   scrub  None         1      True     NaN  \n",
       "90   scrub  None         0      True     NaN  \n",
       "93   scrub  None     59165      True     NaN  \n",
       "94   scrub  None    268933     False     NaN  \n",
       "96   scrub  None      4611     False     NaN  \n",
       "97   scrub  None        21     False     NaN  \n",
       "98   scrub  None      7674     False     NaN  \n",
       "115  scrub  None         0      True     NaN  \n",
       "117  scrub  None    383753     False     NaN  \n",
       "118  scrub  None     28200     False     NaN  "
      ]
     },
     "execution_count": 59,
     "metadata": {},
     "output_type": "execute_result"
    }
   ],
   "source": [
    "tables = columns_config.drop_duplicates(['TABLE_SCHEMA', 'TABLE_NAME'])\n",
    "tables"
   ]
  },
  {
   "cell_type": "code",
   "execution_count": 60,
   "id": "loaded-updating",
   "metadata": {},
   "outputs": [
    {
     "data": {
      "text/html": [
       "<div>\n",
       "<style scoped>\n",
       "    .dataframe tbody tr th:only-of-type {\n",
       "        vertical-align: middle;\n",
       "    }\n",
       "\n",
       "    .dataframe tbody tr th {\n",
       "        vertical-align: top;\n",
       "    }\n",
       "\n",
       "    .dataframe thead th {\n",
       "        text-align: right;\n",
       "    }\n",
       "</style>\n",
       "<table border=\"1\" class=\"dataframe\">\n",
       "  <thead>\n",
       "    <tr style=\"text-align: right;\">\n",
       "      <th></th>\n",
       "      <th>fld_key</th>\n",
       "      <th>fld_api</th>\n",
       "      <th>fld_id</th>\n",
       "      <th>fld_name</th>\n",
       "      <th>fld_csi</th>\n",
       "      <th>fld_csp</th>\n",
       "      <th>fld_sic</th>\n",
       "      <th>fld_address1</th>\n",
       "      <th>fld_address2</th>\n",
       "      <th>fld_city</th>\n",
       "      <th>fld_state</th>\n",
       "      <th>fld_zip</th>\n",
       "      <th>fld_country</th>\n",
       "      <th>fld_donee_id</th>\n",
       "      <th>fld_added</th>\n",
       "      <th>fld_profile_id</th>\n",
       "      <th>fld_config</th>\n",
       "    </tr>\n",
       "  </thead>\n",
       "  <tbody>\n",
       "    <tr>\n",
       "      <th>0</th>\n",
       "      <td>1</td>\n",
       "      <td>None</td>\n",
       "      <td>4445016736421</td>\n",
       "      <td>Anointed City of the Lord</td>\n",
       "      <td></td>\n",
       "      <td></td>\n",
       "      <td></td>\n",
       "      <td></td>\n",
       "      <td></td>\n",
       "      <td>Indianapolis</td>\n",
       "      <td>IN</td>\n",
       "      <td>46205</td>\n",
       "      <td>USA</td>\n",
       "      <td>90</td>\n",
       "      <td>2016-10-03 20:31:00</td>\n",
       "      <td>DONEE0000000090_DEDC61300C</td>\n",
       "      <td>taLn2pqQ69ja1tjd4q+RnaheiYnb08/YyuLR1qpQ2ejilZ...</td>\n",
       "    </tr>\n",
       "    <tr>\n",
       "      <th>1</th>\n",
       "      <td>2</td>\n",
       "      <td>None</td>\n",
       "      <td>4445016816553</td>\n",
       "      <td>None</td>\n",
       "      <td>None</td>\n",
       "      <td>None</td>\n",
       "      <td>None</td>\n",
       "      <td>None</td>\n",
       "      <td>None</td>\n",
       "      <td>None</td>\n",
       "      <td>None</td>\n",
       "      <td>None</td>\n",
       "      <td>None</td>\n",
       "      <td>75</td>\n",
       "      <td>2016-10-03 20:31:05</td>\n",
       "      <td>DONEE0000000075_DEDC61300C</td>\n",
       "      <td>taLn2pqQ69ja1tjd4q+RnaheiYnb08/YyuLR1qpQ2ejilZ...</td>\n",
       "    </tr>\n",
       "    <tr>\n",
       "      <th>2</th>\n",
       "      <td>3</td>\n",
       "      <td>None</td>\n",
       "      <td>4445016816645</td>\n",
       "      <td>None</td>\n",
       "      <td>None</td>\n",
       "      <td>None</td>\n",
       "      <td>None</td>\n",
       "      <td>None</td>\n",
       "      <td>None</td>\n",
       "      <td>None</td>\n",
       "      <td>None</td>\n",
       "      <td>None</td>\n",
       "      <td>None</td>\n",
       "      <td>172</td>\n",
       "      <td>2016-10-03 20:31:10</td>\n",
       "      <td>DONEE0000000172_DEDC61300C</td>\n",
       "      <td>taLn2pqQ69ja1tjd4q+RnaheiYnb08/YyuLR1qpQ2ejilZ...</td>\n",
       "    </tr>\n",
       "    <tr>\n",
       "      <th>3</th>\n",
       "      <td>4</td>\n",
       "      <td>None</td>\n",
       "      <td>4445016816660</td>\n",
       "      <td>None</td>\n",
       "      <td>None</td>\n",
       "      <td>None</td>\n",
       "      <td>None</td>\n",
       "      <td>None</td>\n",
       "      <td>None</td>\n",
       "      <td>None</td>\n",
       "      <td>None</td>\n",
       "      <td>None</td>\n",
       "      <td>None</td>\n",
       "      <td>19</td>\n",
       "      <td>2016-10-03 20:31:16</td>\n",
       "      <td>DONEE0000000019_DEDC61300C</td>\n",
       "      <td>taLn2pqQ69ja1tjd4q+RnaheiYnb08/YyuLR1qpQ2ejilZ...</td>\n",
       "    </tr>\n",
       "    <tr>\n",
       "      <th>4</th>\n",
       "      <td>5</td>\n",
       "      <td>None</td>\n",
       "      <td>4445016816678</td>\n",
       "      <td>None</td>\n",
       "      <td>None</td>\n",
       "      <td>None</td>\n",
       "      <td>None</td>\n",
       "      <td>None</td>\n",
       "      <td>None</td>\n",
       "      <td>None</td>\n",
       "      <td>None</td>\n",
       "      <td>None</td>\n",
       "      <td>None</td>\n",
       "      <td>22</td>\n",
       "      <td>2016-10-03 20:31:20</td>\n",
       "      <td>DONEE0000000022_DEDC61300C</td>\n",
       "      <td>taLn2pqQ69ja1tjd4q+RnaheiYnb08/YyuLR1qpQ2ejilZ...</td>\n",
       "    </tr>\n",
       "    <tr>\n",
       "      <th>...</th>\n",
       "      <td>...</td>\n",
       "      <td>...</td>\n",
       "      <td>...</td>\n",
       "      <td>...</td>\n",
       "      <td>...</td>\n",
       "      <td>...</td>\n",
       "      <td>...</td>\n",
       "      <td>...</td>\n",
       "      <td>...</td>\n",
       "      <td>...</td>\n",
       "      <td>...</td>\n",
       "      <td>...</td>\n",
       "      <td>...</td>\n",
       "      <td>...</td>\n",
       "      <td>...</td>\n",
       "      <td>...</td>\n",
       "      <td>...</td>\n",
       "    </tr>\n",
       "    <tr>\n",
       "      <th>95</th>\n",
       "      <td>96</td>\n",
       "      <td>None</td>\n",
       "      <td>4445016852699</td>\n",
       "      <td>None</td>\n",
       "      <td>None</td>\n",
       "      <td>None</td>\n",
       "      <td>None</td>\n",
       "      <td>None</td>\n",
       "      <td>None</td>\n",
       "      <td>None</td>\n",
       "      <td>None</td>\n",
       "      <td>None</td>\n",
       "      <td>None</td>\n",
       "      <td>404</td>\n",
       "      <td>2016-10-03 20:38:56</td>\n",
       "      <td>DONEE0000000404_DEDC61300C</td>\n",
       "      <td>taLn2pqQ69ja1tjd4q+RnaheiYnb08/YyuLR1qpQ2ejilZ...</td>\n",
       "    </tr>\n",
       "    <tr>\n",
       "      <th>96</th>\n",
       "      <td>97</td>\n",
       "      <td>None</td>\n",
       "      <td>4445016852707</td>\n",
       "      <td>None</td>\n",
       "      <td>None</td>\n",
       "      <td>None</td>\n",
       "      <td>None</td>\n",
       "      <td>None</td>\n",
       "      <td>None</td>\n",
       "      <td>None</td>\n",
       "      <td>None</td>\n",
       "      <td>None</td>\n",
       "      <td>None</td>\n",
       "      <td>458</td>\n",
       "      <td>2016-10-03 20:39:01</td>\n",
       "      <td>DONEE0000000458_DEDC61300C</td>\n",
       "      <td>taLn2pqQ69ja1tjd4q+RnaheiYnb08/YyuLR1qpQ2ejilZ...</td>\n",
       "    </tr>\n",
       "    <tr>\n",
       "      <th>97</th>\n",
       "      <td>98</td>\n",
       "      <td>None</td>\n",
       "      <td>4445016852715</td>\n",
       "      <td>None</td>\n",
       "      <td>None</td>\n",
       "      <td>None</td>\n",
       "      <td>None</td>\n",
       "      <td>None</td>\n",
       "      <td>None</td>\n",
       "      <td>None</td>\n",
       "      <td>None</td>\n",
       "      <td>None</td>\n",
       "      <td>None</td>\n",
       "      <td>490</td>\n",
       "      <td>2016-10-03 20:39:06</td>\n",
       "      <td>DONEE0000000490_DEDC61300C</td>\n",
       "      <td>taLn2pqQ69ja1tjd4q+RnaheiYnb08/YyuLR1qpQ2ejilZ...</td>\n",
       "    </tr>\n",
       "    <tr>\n",
       "      <th>98</th>\n",
       "      <td>99</td>\n",
       "      <td>None</td>\n",
       "      <td>4445016853440</td>\n",
       "      <td>None</td>\n",
       "      <td>None</td>\n",
       "      <td>None</td>\n",
       "      <td>None</td>\n",
       "      <td>None</td>\n",
       "      <td>None</td>\n",
       "      <td>None</td>\n",
       "      <td>None</td>\n",
       "      <td>None</td>\n",
       "      <td>None</td>\n",
       "      <td>519</td>\n",
       "      <td>2016-10-03 20:39:11</td>\n",
       "      <td>DONEE0000000519_DEDC61300C</td>\n",
       "      <td>taLn2pqQ69ja1tjd4q+RnaheiYnb08/YyuLR1qpQ2ejilZ...</td>\n",
       "    </tr>\n",
       "    <tr>\n",
       "      <th>99</th>\n",
       "      <td>100</td>\n",
       "      <td>None</td>\n",
       "      <td>4445016853457</td>\n",
       "      <td>None</td>\n",
       "      <td>None</td>\n",
       "      <td>None</td>\n",
       "      <td>None</td>\n",
       "      <td>None</td>\n",
       "      <td>None</td>\n",
       "      <td>None</td>\n",
       "      <td>None</td>\n",
       "      <td>None</td>\n",
       "      <td>None</td>\n",
       "      <td>509</td>\n",
       "      <td>2016-10-03 20:39:16</td>\n",
       "      <td>DONEE0000000509_DEDC61300C</td>\n",
       "      <td>taLn2pqQ69ja1tjd4q+RnaheiYnb08/YyuLR1qpQ2ejilZ...</td>\n",
       "    </tr>\n",
       "  </tbody>\n",
       "</table>\n",
       "<p>100 rows × 17 columns</p>\n",
       "</div>"
      ],
      "text/plain": [
       "    fld_key fld_api         fld_id                   fld_name fld_csi fld_csp  \\\n",
       "0         1    None  4445016736421  Anointed City of the Lord                   \n",
       "1         2    None  4445016816553                       None    None    None   \n",
       "2         3    None  4445016816645                       None    None    None   \n",
       "3         4    None  4445016816660                       None    None    None   \n",
       "4         5    None  4445016816678                       None    None    None   \n",
       "..      ...     ...            ...                        ...     ...     ...   \n",
       "95       96    None  4445016852699                       None    None    None   \n",
       "96       97    None  4445016852707                       None    None    None   \n",
       "97       98    None  4445016852715                       None    None    None   \n",
       "98       99    None  4445016853440                       None    None    None   \n",
       "99      100    None  4445016853457                       None    None    None   \n",
       "\n",
       "   fld_sic fld_address1 fld_address2      fld_city fld_state fld_zip  \\\n",
       "0                                     Indianapolis        IN   46205   \n",
       "1     None         None         None          None      None    None   \n",
       "2     None         None         None          None      None    None   \n",
       "3     None         None         None          None      None    None   \n",
       "4     None         None         None          None      None    None   \n",
       "..     ...          ...          ...           ...       ...     ...   \n",
       "95    None         None         None          None      None    None   \n",
       "96    None         None         None          None      None    None   \n",
       "97    None         None         None          None      None    None   \n",
       "98    None         None         None          None      None    None   \n",
       "99    None         None         None          None      None    None   \n",
       "\n",
       "   fld_country  fld_donee_id           fld_added              fld_profile_id  \\\n",
       "0          USA            90 2016-10-03 20:31:00  DONEE0000000090_DEDC61300C   \n",
       "1         None            75 2016-10-03 20:31:05  DONEE0000000075_DEDC61300C   \n",
       "2         None           172 2016-10-03 20:31:10  DONEE0000000172_DEDC61300C   \n",
       "3         None            19 2016-10-03 20:31:16  DONEE0000000019_DEDC61300C   \n",
       "4         None            22 2016-10-03 20:31:20  DONEE0000000022_DEDC61300C   \n",
       "..         ...           ...                 ...                         ...   \n",
       "95        None           404 2016-10-03 20:38:56  DONEE0000000404_DEDC61300C   \n",
       "96        None           458 2016-10-03 20:39:01  DONEE0000000458_DEDC61300C   \n",
       "97        None           490 2016-10-03 20:39:06  DONEE0000000490_DEDC61300C   \n",
       "98        None           519 2016-10-03 20:39:11  DONEE0000000519_DEDC61300C   \n",
       "99        None           509 2016-10-03 20:39:16  DONEE0000000509_DEDC61300C   \n",
       "\n",
       "                                           fld_config  \n",
       "0   taLn2pqQ69ja1tjd4q+RnaheiYnb08/YyuLR1qpQ2ejilZ...  \n",
       "1   taLn2pqQ69ja1tjd4q+RnaheiYnb08/YyuLR1qpQ2ejilZ...  \n",
       "2   taLn2pqQ69ja1tjd4q+RnaheiYnb08/YyuLR1qpQ2ejilZ...  \n",
       "3   taLn2pqQ69ja1tjd4q+RnaheiYnb08/YyuLR1qpQ2ejilZ...  \n",
       "4   taLn2pqQ69ja1tjd4q+RnaheiYnb08/YyuLR1qpQ2ejilZ...  \n",
       "..                                                ...  \n",
       "95  taLn2pqQ69ja1tjd4q+RnaheiYnb08/YyuLR1qpQ2ejilZ...  \n",
       "96  taLn2pqQ69ja1tjd4q+RnaheiYnb08/YyuLR1qpQ2ejilZ...  \n",
       "97  taLn2pqQ69ja1tjd4q+RnaheiYnb08/YyuLR1qpQ2ejilZ...  \n",
       "98  taLn2pqQ69ja1tjd4q+RnaheiYnb08/YyuLR1qpQ2ejilZ...  \n",
       "99  taLn2pqQ69ja1tjd4q+RnaheiYnb08/YyuLR1qpQ2ejilZ...  \n",
       "\n",
       "[100 rows x 17 columns]"
      ]
     },
     "execution_count": 60,
     "metadata": {},
     "output_type": "execute_result"
    }
   ],
   "source": [
    "pd.read_sql_query('SELECT * FROM `givelify`.`donee_merchant_data` LIMIT 100', source_connection)"
   ]
  },
  {
   "cell_type": "code",
   "execution_count": 61,
   "id": "worth-fountain",
   "metadata": {},
   "outputs": [
    {
     "name": "stderr",
     "output_type": "stream",
     "text": [
      "\r",
      "  0%|          | 0/29 [00:00<?, ?it/s]"
     ]
    },
    {
     "name": "stdout",
     "output_type": "stream",
     "text": [
      "SET unique_checks=0; SET foreign_key_checks=0;\n",
      "TRUNCATE `givelify`.`donee_merchant_data`;\n",
      "INSERT INTO `givelify`.`donee_merchant_data` (SELECT * FROM `givelify`.`donee_merchant_data_scrubbed_empty`);\n",
      "DROP TABLE `givelify`.`donee_merchant_data_scrubbed_empty`;\n",
      "SET unique_checks=1; SET foreign_key_checks=1;\n"
     ]
    },
    {
     "name": "stderr",
     "output_type": "stream",
     "text": [
      "\r",
      "  3%|▎         | 1/29 [00:02<00:58,  2.09s/it]"
     ]
    },
    {
     "name": "stdout",
     "output_type": "stream",
     "text": [
      "SET unique_checks=0; SET foreign_key_checks=0;\n",
      "TRUNCATE `givelify`.`donee_merchant_data_express`;\n",
      "INSERT INTO `givelify`.`donee_merchant_data_express` (SELECT * FROM `givelify`.`donee_merchant_data_express_scrubbed_empty`);\n",
      "DROP TABLE `givelify`.`donee_merchant_data_express_scrubbed_empty`;\n",
      "SET unique_checks=1; SET foreign_key_checks=1;\n"
     ]
    },
    {
     "name": "stderr",
     "output_type": "stream",
     "text": [
      "\r",
      "  7%|▋         | 2/29 [00:03<00:52,  1.94s/it]"
     ]
    },
    {
     "name": "stdout",
     "output_type": "stream",
     "text": [
      "SET unique_checks=0; SET foreign_key_checks=0;\n",
      "TRUNCATE `givelify_payments`.`deleted_submerchant_log`;\n",
      "INSERT INTO `givelify_payments`.`deleted_submerchant_log` (SELECT * FROM `givelify_payments`.`deleted_submerchant_log_scrubbed_empty`);\n",
      "DROP TABLE `givelify_payments`.`deleted_submerchant_log_scrubbed_empty`;\n"
     ]
    },
    {
     "name": "stderr",
     "output_type": "stream",
     "text": [
      "\r",
      " 10%|█         | 3/29 [00:04<00:36,  1.41s/it]"
     ]
    },
    {
     "name": "stdout",
     "output_type": "stream",
     "text": [
      "SET unique_checks=1; SET foreign_key_checks=1;\n",
      "SET unique_checks=0; SET foreign_key_checks=0;\n",
      "TRUNCATE `givelify_payments`.`submerchant_log`;\n",
      "INSERT INTO `givelify_payments`.`submerchant_log` (SELECT * FROM `givelify_payments`.`submerchant_log_scrubbed_empty`);\n",
      "DROP TABLE `givelify_payments`.`submerchant_log_scrubbed_empty`;\n",
      "SET unique_checks=1; SET foreign_key_checks=1;\n"
     ]
    },
    {
     "name": "stderr",
     "output_type": "stream",
     "text": [
      "\r",
      " 14%|█▍        | 4/29 [00:06<00:38,  1.55s/it]"
     ]
    },
    {
     "name": "stdout",
     "output_type": "stream",
     "text": [
      "SET unique_checks=0; SET foreign_key_checks=0;\n",
      "TRUNCATE `givelify_payments`.`underwriting_status`;\n",
      "INSERT INTO `givelify_payments`.`underwriting_status` (SELECT * FROM `givelify_payments`.`underwriting_status_scrubbed_empty`);\n",
      "DROP TABLE `givelify_payments`.`underwriting_status_scrubbed_empty`;\n",
      "SET unique_checks=1; SET foreign_key_checks=1;\n"
     ]
    },
    {
     "name": "stderr",
     "output_type": "stream",
     "text": [
      "\r",
      " 17%|█▋        | 5/29 [00:08<00:38,  1.58s/it]"
     ]
    },
    {
     "name": "stdout",
     "output_type": "stream",
     "text": [
      "SET unique_checks=0; SET foreign_key_checks=0;\n",
      "TRUNCATE `payment_instruments`.`failed_jobs`;\n",
      "INSERT INTO `payment_instruments`.`failed_jobs` (SELECT * FROM `payment_instruments`.`failed_jobs_scrubbed_empty`);\n",
      "DROP TABLE `payment_instruments`.`failed_jobs_scrubbed_empty`;\n"
     ]
    },
    {
     "name": "stderr",
     "output_type": "stream",
     "text": [
      "\r",
      " 21%|██        | 6/29 [00:08<00:29,  1.28s/it]"
     ]
    },
    {
     "name": "stdout",
     "output_type": "stream",
     "text": [
      "SET unique_checks=1; SET foreign_key_checks=1;\n",
      "SET unique_checks=0; SET foreign_key_checks=0;\n",
      "TRUNCATE `payment_instruments`.`password_resets`;\n",
      "INSERT INTO `payment_instruments`.`password_resets` (SELECT * FROM `payment_instruments`.`password_resets_scrubbed_empty`);\n",
      "DROP TABLE `payment_instruments`.`password_resets_scrubbed_empty`;\n"
     ]
    },
    {
     "name": "stderr",
     "output_type": "stream",
     "text": [
      "\r",
      " 24%|██▍       | 7/29 [00:09<00:23,  1.09s/it]"
     ]
    },
    {
     "name": "stdout",
     "output_type": "stream",
     "text": [
      "SET unique_checks=1; SET foreign_key_checks=1;\n",
      "SET unique_checks=0; SET foreign_key_checks=0;\n",
      "TRUNCATE `payment_instruments`.`payment_instruments`;\n",
      "INSERT INTO `payment_instruments`.`payment_instruments` (SELECT * FROM `payment_instruments`.`payment_instruments_scrubbed_empty`);\n",
      "DROP TABLE `payment_instruments`.`payment_instruments_scrubbed_empty`;\n",
      "SET unique_checks=1; SET foreign_key_checks=1;\n"
     ]
    },
    {
     "name": "stderr",
     "output_type": "stream",
     "text": [
      "\r",
      " 28%|██▊       | 8/29 [00:10<00:22,  1.08s/it]"
     ]
    },
    {
     "name": "stdout",
     "output_type": "stream",
     "text": [
      "SET unique_checks=0; SET foreign_key_checks=0;\n",
      "TRUNCATE `payment_instruments`.`users`;\n",
      "INSERT INTO `payment_instruments`.`users` (SELECT * FROM `payment_instruments`.`users_scrubbed_empty`);\n",
      "DROP TABLE `payment_instruments`.`users_scrubbed_empty`;\n"
     ]
    },
    {
     "name": "stderr",
     "output_type": "stream",
     "text": [
      "\r",
      " 31%|███       | 9/29 [00:11<00:19,  1.05it/s]"
     ]
    },
    {
     "name": "stdout",
     "output_type": "stream",
     "text": [
      "SET unique_checks=1; SET foreign_key_checks=1;\n",
      "SET unique_checks=0; SET foreign_key_checks=0;\n",
      "TRUNCATE `salesforce_checks`.`contact_issues`;\n",
      "INSERT INTO `salesforce_checks`.`contact_issues` (SELECT * FROM `salesforce_checks`.`contact_issues_scrubbed_empty`);\n",
      "DROP TABLE `salesforce_checks`.`contact_issues_scrubbed_empty`;\n"
     ]
    },
    {
     "name": "stderr",
     "output_type": "stream",
     "text": [
      "\r",
      " 34%|███▍      | 10/29 [00:11<00:16,  1.15it/s]"
     ]
    },
    {
     "name": "stdout",
     "output_type": "stream",
     "text": [
      "SET unique_checks=1; SET foreign_key_checks=1;\n",
      "SET unique_checks=0; SET foreign_key_checks=0;\n",
      "TRUNCATE `salesforce_checks`.`donations`;\n",
      "INSERT INTO `salesforce_checks`.`donations` (SELECT * FROM `salesforce_checks`.`donations_scrubbed_empty`);\n",
      "DROP TABLE `salesforce_checks`.`donations_scrubbed_empty`;\n"
     ]
    },
    {
     "name": "stderr",
     "output_type": "stream",
     "text": [
      "\r",
      " 38%|███▊      | 11/29 [45:31<4:09:55, 833.07s/it]"
     ]
    },
    {
     "name": "stdout",
     "output_type": "stream",
     "text": [
      "SET unique_checks=1; SET foreign_key_checks=1;\n",
      "SET unique_checks=0; SET foreign_key_checks=0;\n",
      "TRUNCATE `salesforce_checks`.`donee_bank_info`;\n",
      "INSERT INTO `salesforce_checks`.`donee_bank_info` (SELECT * FROM `salesforce_checks`.`donee_bank_info_scrubbed_empty`);\n",
      "DROP TABLE `salesforce_checks`.`donee_bank_info_scrubbed_empty`;\n",
      "SET unique_checks=1; SET foreign_key_checks=1;\n"
     ]
    },
    {
     "name": "stderr",
     "output_type": "stream",
     "text": [
      "\r",
      " 41%|████▏     | 12/29 [45:33<2:44:24, 580.26s/it]"
     ]
    },
    {
     "name": "stdout",
     "output_type": "stream",
     "text": [
      "SET unique_checks=0; SET foreign_key_checks=0;\n",
      "TRUNCATE `salesforce_checks`.`donee_campuses`;\n",
      "INSERT INTO `salesforce_checks`.`donee_campuses` (SELECT * FROM `salesforce_checks`.`donee_campuses_scrubbed_empty`);\n",
      "DROP TABLE `salesforce_checks`.`donee_campuses_scrubbed_empty`;\n"
     ]
    },
    {
     "name": "stderr",
     "output_type": "stream",
     "text": [
      "\r",
      " 45%|████▍     | 13/29 [45:34<1:47:55, 404.70s/it]"
     ]
    },
    {
     "name": "stdout",
     "output_type": "stream",
     "text": [
      "SET unique_checks=1; SET foreign_key_checks=1;\n",
      "SET unique_checks=0; SET foreign_key_checks=0;\n",
      "TRUNCATE `salesforce_checks`.`donee_info`;\n",
      "INSERT INTO `salesforce_checks`.`donee_info` (SELECT * FROM `salesforce_checks`.`donee_info_scrubbed_empty`);\n",
      "DROP TABLE `salesforce_checks`.`donee_info_scrubbed_empty`;\n",
      "SET unique_checks=1; SET foreign_key_checks=1;\n"
     ]
    },
    {
     "name": "stderr",
     "output_type": "stream",
     "text": [
      "\r",
      " 48%|████▊     | 14/29 [45:38<1:10:53, 283.57s/it]"
     ]
    },
    {
     "name": "stdout",
     "output_type": "stream",
     "text": [
      "SET unique_checks=0; SET foreign_key_checks=0;\n",
      "TRUNCATE `salesforce_checks`.`donee_official_info`;\n",
      "INSERT INTO `salesforce_checks`.`donee_official_info` (SELECT * FROM `salesforce_checks`.`donee_official_info_scrubbed_empty`);\n",
      "DROP TABLE `salesforce_checks`.`donee_official_info_scrubbed_empty`;\n",
      "SET unique_checks=1; SET foreign_key_checks=1;\n"
     ]
    },
    {
     "name": "stderr",
     "output_type": "stream",
     "text": [
      "\r",
      " 52%|█████▏    | 15/29 [45:42<46:31, 199.36s/it]  "
     ]
    },
    {
     "name": "stdout",
     "output_type": "stream",
     "text": [
      "SET unique_checks=0; SET foreign_key_checks=0;\n",
      "TRUNCATE `salesforce_checks`.`givelify_donees`;\n",
      "INSERT INTO `salesforce_checks`.`givelify_donees` (SELECT * FROM `salesforce_checks`.`givelify_donees_scrubbed_empty`);\n",
      "DROP TABLE `salesforce_checks`.`givelify_donees_scrubbed_empty`;\n",
      "SET unique_checks=1; SET foreign_key_checks=1;\n"
     ]
    },
    {
     "name": "stderr",
     "output_type": "stream",
     "text": [
      "\r",
      " 55%|█████▌    | 16/29 [45:44<30:19, 139.95s/it]"
     ]
    },
    {
     "name": "stdout",
     "output_type": "stream",
     "text": [
      "SET unique_checks=0; SET foreign_key_checks=0;\n",
      "TRUNCATE `salesforce_checks`.`givelify_officials`;\n",
      "INSERT INTO `salesforce_checks`.`givelify_officials` (SELECT * FROM `salesforce_checks`.`givelify_officials_scrubbed_empty`);\n",
      "DROP TABLE `salesforce_checks`.`givelify_officials_scrubbed_empty`;\n",
      "SET unique_checks=1; SET foreign_key_checks=1;\n"
     ]
    },
    {
     "name": "stderr",
     "output_type": "stream",
     "text": [
      "\r",
      " 59%|█████▊    | 17/29 [45:46<19:41, 98.48s/it] "
     ]
    },
    {
     "name": "stdout",
     "output_type": "stream",
     "text": [
      "SET unique_checks=0; SET foreign_key_checks=0;\n",
      "TRUNCATE `salesforce_checks`.`remote_contacts`;\n",
      "INSERT INTO `salesforce_checks`.`remote_contacts` (SELECT * FROM `salesforce_checks`.`remote_contacts_scrubbed_empty`);\n",
      "DROP TABLE `salesforce_checks`.`remote_contacts_scrubbed_empty`;\n",
      "SET unique_checks=1; SET foreign_key_checks=1;\n"
     ]
    },
    {
     "name": "stderr",
     "output_type": "stream",
     "text": [
      "\r",
      " 62%|██████▏   | 18/29 [45:48<12:45, 69.60s/it]"
     ]
    },
    {
     "name": "stdout",
     "output_type": "stream",
     "text": [
      "SET unique_checks=0; SET foreign_key_checks=0;\n",
      "TRUNCATE `donee-portal`.`donee_report_emails`;\n",
      "INSERT INTO `donee-portal`.`donee_report_emails` (SELECT * FROM `donee-portal`.`donee_report_emails_scrubbed_empty`);\n",
      "DROP TABLE `donee-portal`.`donee_report_emails_scrubbed_empty`;\n"
     ]
    },
    {
     "name": "stderr",
     "output_type": "stream",
     "text": [
      "\r",
      " 66%|██████▌   | 19/29 [45:49<08:09, 48.91s/it]"
     ]
    },
    {
     "name": "stdout",
     "output_type": "stream",
     "text": [
      "SET unique_checks=1; SET foreign_key_checks=1;\n",
      "SET unique_checks=0; SET foreign_key_checks=0;\n",
      "TRUNCATE `donee-portal`.`failed_jobs`;\n",
      "INSERT INTO `donee-portal`.`failed_jobs` (SELECT * FROM `donee-portal`.`failed_jobs_scrubbed_empty`);\n",
      "DROP TABLE `donee-portal`.`failed_jobs_scrubbed_empty`;\n"
     ]
    },
    {
     "name": "stderr",
     "output_type": "stream",
     "text": [
      "\r",
      " 69%|██████▉   | 20/29 [45:50<05:09, 34.44s/it]"
     ]
    },
    {
     "name": "stdout",
     "output_type": "stream",
     "text": [
      "SET unique_checks=1; SET foreign_key_checks=1;\n",
      "SET unique_checks=0; SET foreign_key_checks=0;\n",
      "TRUNCATE `donee-portal`.`new_donors`;\n",
      "INSERT INTO `donee-portal`.`new_donors` (SELECT * FROM `donee-portal`.`new_donors_scrubbed_empty`);\n",
      "DROP TABLE `donee-portal`.`new_donors_scrubbed_empty`;\n"
     ]
    },
    {
     "name": "stderr",
     "output_type": "stream",
     "text": [
      "\r",
      " 72%|███████▏  | 21/29 [45:51<03:14, 24.31s/it]"
     ]
    },
    {
     "name": "stdout",
     "output_type": "stream",
     "text": [
      "SET unique_checks=1; SET foreign_key_checks=1;\n",
      "SET unique_checks=0; SET foreign_key_checks=0;\n",
      "TRUNCATE `donee-portal`.`reconciliation_recipients`;\n",
      "INSERT INTO `donee-portal`.`reconciliation_recipients` (SELECT * FROM `donee-portal`.`reconciliation_recipients_scrubbed_empty`);\n",
      "DROP TABLE `donee-portal`.`reconciliation_recipients_scrubbed_empty`;\n",
      "SET unique_checks=1; SET foreign_key_checks=1;\n"
     ]
    },
    {
     "name": "stderr",
     "output_type": "stream",
     "text": [
      "\r",
      " 76%|███████▌  | 22/29 [45:53<02:04, 17.75s/it]"
     ]
    },
    {
     "name": "stdout",
     "output_type": "stream",
     "text": [
      "SET unique_checks=0; SET foreign_key_checks=0;\n",
      "TRUNCATE `donee-portal`.`reconciliation_report_logs`;\n",
      "INSERT INTO `donee-portal`.`reconciliation_report_logs` (SELECT * FROM `donee-portal`.`reconciliation_report_logs_scrubbed_empty`);\n",
      "DROP TABLE `donee-portal`.`reconciliation_report_logs_scrubbed_empty`;\n",
      "SET unique_checks=1; SET foreign_key_checks=1;\n"
     ]
    },
    {
     "name": "stderr",
     "output_type": "stream",
     "text": [
      "\r",
      " 79%|███████▉  | 23/29 [46:01<01:29, 14.91s/it]"
     ]
    },
    {
     "name": "stdout",
     "output_type": "stream",
     "text": [
      "SET unique_checks=0; SET foreign_key_checks=0;\n",
      "TRUNCATE `donee-portal`.`reports`;\n",
      "INSERT INTO `donee-portal`.`reports` (SELECT * FROM `donee-portal`.`reports_scrubbed_empty`);\n",
      "DROP TABLE `donee-portal`.`reports_scrubbed_empty`;\n",
      "SET unique_checks=1; SET foreign_key_checks=1;\n"
     ]
    },
    {
     "name": "stderr",
     "output_type": "stream",
     "text": [
      "\r",
      " 83%|████████▎ | 24/29 [46:02<00:53, 10.70s/it]"
     ]
    },
    {
     "name": "stdout",
     "output_type": "stream",
     "text": [
      "SET unique_checks=0; SET foreign_key_checks=0;\n",
      "TRUNCATE `donee-portal`.`sessions`;\n",
      "INSERT INTO `donee-portal`.`sessions` (SELECT * FROM `donee-portal`.`sessions_scrubbed_empty`);\n",
      "DROP TABLE `donee-portal`.`sessions_scrubbed_empty`;\n"
     ]
    },
    {
     "name": "stderr",
     "output_type": "stream",
     "text": [
      "\r",
      " 86%|████████▌ | 25/29 [46:03<00:30,  7.70s/it]"
     ]
    },
    {
     "name": "stdout",
     "output_type": "stream",
     "text": [
      "SET unique_checks=1; SET foreign_key_checks=1;\n",
      "SET unique_checks=0; SET foreign_key_checks=0;\n",
      "TRUNCATE `donee-portal`.`signup_progress`;\n",
      "INSERT INTO `donee-portal`.`signup_progress` (SELECT * FROM `donee-portal`.`signup_progress_scrubbed_empty`);\n",
      "DROP TABLE `donee-portal`.`signup_progress_scrubbed_empty`;\n",
      "SET unique_checks=1; SET foreign_key_checks=1;\n"
     ]
    },
    {
     "name": "stderr",
     "output_type": "stream",
     "text": [
      "\r",
      " 90%|████████▉ | 26/29 [46:04<00:17,  5.67s/it]"
     ]
    },
    {
     "name": "stdout",
     "output_type": "stream",
     "text": [
      "SET unique_checks=0; SET foreign_key_checks=0;\n",
      "TRUNCATE `donee-portal`.`users`;\n",
      "INSERT INTO `donee-portal`.`users` (SELECT * FROM `donee-portal`.`users_scrubbed_empty`);\n",
      "DROP TABLE `donee-portal`.`users_scrubbed_empty`;\n"
     ]
    },
    {
     "name": "stderr",
     "output_type": "stream",
     "text": [
      "\r",
      " 93%|█████████▎| 27/29 [46:05<00:08,  4.18s/it]"
     ]
    },
    {
     "name": "stdout",
     "output_type": "stream",
     "text": [
      "SET unique_checks=1; SET foreign_key_checks=1;\n",
      "SET unique_checks=0; SET foreign_key_checks=0;\n",
      "TRUNCATE `url_shortener`.`log`;\n",
      "INSERT INTO `url_shortener`.`log` (SELECT * FROM `url_shortener`.`log_scrubbed_empty`);\n",
      "DROP TABLE `url_shortener`.`log_scrubbed_empty`;\n",
      "SET unique_checks=1; SET foreign_key_checks=1;\n"
     ]
    },
    {
     "name": "stderr",
     "output_type": "stream",
     "text": [
      "\r",
      " 97%|█████████▋| 28/29 [46:12<00:05,  5.14s/it]"
     ]
    },
    {
     "name": "stdout",
     "output_type": "stream",
     "text": [
      "SET unique_checks=0; SET foreign_key_checks=0;\n",
      "TRUNCATE `url_shortener`.`url`;\n",
      "INSERT INTO `url_shortener`.`url` (SELECT * FROM `url_shortener`.`url_scrubbed_empty`);\n",
      "DROP TABLE `url_shortener`.`url_scrubbed_empty`;\n",
      "SET unique_checks=1; SET foreign_key_checks=1;\n"
     ]
    },
    {
     "name": "stderr",
     "output_type": "stream",
     "text": [
      "100%|██████████| 29/29 [46:14<00:00, 95.67s/it]\n"
     ]
    }
   ],
   "source": [
    "for index, row in tqdm(tables.iterrows(), total=len(tables)):\n",
    "    \n",
    "    query = \"SET unique_checks=0; SET foreign_key_checks=0;\"\n",
    "    print(query)\n",
    "    source_connection.execute(query)\n",
    "    source_connection.execute('START TRANSACTION;');\n",
    "    query = \"TRUNCATE `%s`.`%s`;\" % (\n",
    "        row['TABLE_SCHEMA'], \n",
    "        row['TABLE_NAME']\n",
    "    )\n",
    "    print(query)\n",
    "    source_connection.execute(query)\n",
    "    \n",
    "    query = \"INSERT INTO `%s`.`%s` (SELECT * FROM `%s`.`%s%s`);\" % (\n",
    "        row['TABLE_SCHEMA'], \n",
    "        row['TABLE_NAME'], \n",
    "        row['TABLE_SCHEMA'], \n",
    "        row['TABLE_NAME'], \n",
    "        temporary_table_suffix\n",
    "    )\n",
    "    print(query)\n",
    "    source_connection.execute(query)\n",
    "    \n",
    "    query = \"DROP TABLE `%s`.`%s%s`;\" % (\n",
    "        row['TABLE_SCHEMA'], \n",
    "        row['TABLE_NAME'],\n",
    "         temporary_table_suffix\n",
    "    )\n",
    "    print(query)\n",
    "    source_connection.execute(query)\n",
    "    source_connection.execute('COMMIT;')\n",
    "    \n",
    "    query = \"SET unique_checks=1; SET foreign_key_checks=1;\"\n",
    "    print(query)\n",
    "    source_connection.execute(query)"
   ]
  },
  {
   "cell_type": "code",
   "execution_count": 74,
   "id": "confidential-terrace",
   "metadata": {},
   "outputs": [
    {
     "data": {
      "text/html": [
       "<div>\n",
       "<style scoped>\n",
       "    .dataframe tbody tr th:only-of-type {\n",
       "        vertical-align: middle;\n",
       "    }\n",
       "\n",
       "    .dataframe tbody tr th {\n",
       "        vertical-align: top;\n",
       "    }\n",
       "\n",
       "    .dataframe thead th {\n",
       "        text-align: right;\n",
       "    }\n",
       "</style>\n",
       "<table border=\"1\" class=\"dataframe\">\n",
       "  <thead>\n",
       "    <tr style=\"text-align: right;\">\n",
       "      <th></th>\n",
       "      <th>COUNT(*)</th>\n",
       "    </tr>\n",
       "  </thead>\n",
       "  <tbody>\n",
       "    <tr>\n",
       "      <th>0</th>\n",
       "      <td>66122</td>\n",
       "    </tr>\n",
       "  </tbody>\n",
       "</table>\n",
       "</div>"
      ],
      "text/plain": [
       "   COUNT(*)\n",
       "0     66122"
      ]
     },
     "execution_count": 74,
     "metadata": {},
     "output_type": "execute_result"
    }
   ],
   "source": [
    "pd.read_sql_query('SELECT COUNT(*) FROM `salesforce_checks`.`remote_contacts` LIMIT 100', source_connection)"
   ]
  },
  {
   "cell_type": "code",
   "execution_count": 63,
   "id": "final-cooler",
   "metadata": {},
   "outputs": [
    {
     "data": {
      "text/plain": [
       "<sqlalchemy.engine.result.ResultProxy at 0x7f3ffff44d30>"
      ]
     },
     "execution_count": 63,
     "metadata": {},
     "output_type": "execute_result"
    }
   ],
   "source": [
    "query = \"SET unique_checks=1; SET foreign_key_checks=1;\"\n",
    "source_connection.execute(query)"
   ]
  },
  {
   "cell_type": "code",
   "execution_count": 64,
   "id": "advisory-knife",
   "metadata": {},
   "outputs": [
    {
     "name": "stdout",
     "output_type": "stream",
     "text": [
      "<sqlalchemy.engine.result.ResultProxy object at 0x7f3ffff44670>\n"
     ]
    }
   ],
   "source": [
    "\n",
    "print(source_connection.execute('SELECT 1;'))\n"
   ]
  },
  {
   "cell_type": "code",
   "execution_count": null,
   "id": "controlling-concentrate",
   "metadata": {},
   "outputs": [],
   "source": []
  },
  {
   "cell_type": "code",
   "execution_count": null,
   "id": "infectious-proof",
   "metadata": {},
   "outputs": [],
   "source": []
  }
 ],
 "metadata": {
  "kernelspec": {
   "display_name": "Python 3",
   "language": "python",
   "name": "python3"
  },
  "language_info": {
   "codemirror_mode": {
    "name": "ipython",
    "version": 3
   },
   "file_extension": ".py",
   "mimetype": "text/x-python",
   "name": "python",
   "nbconvert_exporter": "python",
   "pygments_lexer": "ipython3",
   "version": "3.8.5"
  }
 },
 "nbformat": 4,
 "nbformat_minor": 5
}
